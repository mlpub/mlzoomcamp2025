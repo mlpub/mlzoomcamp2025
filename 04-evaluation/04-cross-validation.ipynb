{
 "cells": [
  {
   "cell_type": "markdown",
   "id": "4c3f2e07",
   "metadata": {},
   "source": [
    "# 04 Cross Validation"
   ]
  },
  {
   "cell_type": "code",
   "execution_count": 1,
   "id": "5385589e",
   "metadata": {},
   "outputs": [],
   "source": [
    "import numpy as np\n",
    "import pandas as pd\n",
    "import matplotlib.pyplot as plt\n",
    "from sklearn.metrics import confusion_matrix, roc_auc_score\n",
    "from sklearn.feature_extraction import DictVectorizer\n",
    "from sklearn.preprocessing import StandardScaler\n",
    "from sklearn.linear_model import LogisticRegression\n",
    "from sklearn.model_selection import train_test_split\n",
    "from sklearn.model_selection import KFold"
   ]
  },
  {
   "cell_type": "code",
   "execution_count": 2,
   "id": "8314db4d",
   "metadata": {},
   "outputs": [],
   "source": [
    "data = \"https://raw.githubusercontent.com/alexeygrigorev/mlbookcamp-code/master/chapter-03-churn-prediction/WA_Fn-UseC_-Telco-Customer-Churn.csv\""
   ]
  },
  {
   "cell_type": "code",
   "execution_count": 3,
   "id": "10d16002",
   "metadata": {},
   "outputs": [],
   "source": [
    "df = pd.read_csv(data)\n",
    "\n",
    "df.columns = df.columns.str.lower().str.replace(' ', '_')\n",
    "\n",
    "categorical_columns = list(df.dtypes[df.dtypes == 'object'].index)\n",
    "\n",
    "for c in categorical_columns:\n",
    "    df[c] = df[c].str.lower().str.replace(' ', '_')\n",
    "\n",
    "df.totalcharges = pd.to_numeric(df.totalcharges, errors='coerce')\n",
    "df.totalcharges = df.totalcharges.fillna(0)\n",
    "\n",
    "df.churn = (df.churn == 'yes').astype(int)\n",
    "\n",
    "df['tenure'] = df.tenure.astype(float)"
   ]
  },
  {
   "cell_type": "code",
   "execution_count": 4,
   "id": "b6a8444f",
   "metadata": {},
   "outputs": [],
   "source": [
    "df_full_train, df_test = train_test_split(df, test_size=0.2, random_state=1)\n",
    "df_train, df_val = train_test_split(df_full_train, test_size=0.25, random_state=1)\n",
    "\n",
    "df_train = df_train.reset_index(drop=True)\n",
    "df_val = df_val.reset_index(drop=True)\n",
    "df_test = df_test.reset_index(drop=True)\n",
    "\n",
    "y_train = df_train.churn.values\n",
    "y_val = df_val.churn.values\n",
    "y_test = df_test.churn.values\n",
    "\n",
    "del df_train['churn']\n",
    "del df_val['churn']\n",
    "del df_test['churn']"
   ]
  },
  {
   "cell_type": "code",
   "execution_count": 5,
   "id": "b644466d",
   "metadata": {},
   "outputs": [],
   "source": [
    "numerical = ['tenure', 'monthlycharges', 'totalcharges']\n",
    "\n",
    "categorical = [\n",
    "    'gender',\n",
    "    'seniorcitizen',\n",
    "    'partner',\n",
    "    'dependents',\n",
    "    'phoneservice',\n",
    "    'multiplelines',\n",
    "    'internetservice',\n",
    "    'onlinesecurity',\n",
    "    'onlinebackup',\n",
    "    'deviceprotection',\n",
    "    'techsupport',\n",
    "    'streamingtv',\n",
    "    'streamingmovies',\n",
    "    'contract',\n",
    "    'paperlessbilling',\n",
    "    'paymentmethod',\n",
    "]"
   ]
  },
  {
   "cell_type": "code",
   "execution_count": 6,
   "id": "bb72bc1b",
   "metadata": {},
   "outputs": [],
   "source": [
    "def train(df_train, y_train, C=1.0):\n",
    "    dicts = df_train[categorical + numerical].to_dict(orient='records')\n",
    "\n",
    "    dv = DictVectorizer(sparse=False)\n",
    "    X_train = dv.fit_transform(dicts)\n",
    "\n",
    "    model = LogisticRegression(solver='liblinear', C=C, max_iter=1000)\n",
    "    model.fit(X_train, y_train)\n",
    "    \n",
    "    return dv, model"
   ]
  },
  {
   "cell_type": "code",
   "execution_count": 7,
   "id": "93b08ced",
   "metadata": {},
   "outputs": [],
   "source": [
    "def predict(df, dv, model):\n",
    "    dicts = df[categorical + numerical].to_dict(orient='records')\n",
    "\n",
    "    X = dv.transform(dicts)\n",
    "    y_pred = model.predict_proba(X)[:, 1]\n",
    "\n",
    "    return y_pred"
   ]
  },
  {
   "cell_type": "code",
   "execution_count": 8,
   "id": "d14e815a",
   "metadata": {},
   "outputs": [
    {
     "name": "stdout",
     "output_type": "stream",
     "text": [
      "[0.8423279509541489, 0.8453247086478611, 0.8335059201284366, 0.8323627454115241, 0.8521736060995889]\n",
      "Mean AUC: 0.841138986248312\n",
      "Std AUC: 0.0074294393591401095\n"
     ]
    }
   ],
   "source": [
    "kfold = KFold(n_splits=5, shuffle=True, random_state=1)\n",
    "\n",
    "auc_scores = []\n",
    "\n",
    "for train_idx, val_idx in kfold.split(df_full_train):\n",
    "    df_train = df_full_train.iloc[train_idx]\n",
    "    df_val = df_full_train.iloc[val_idx]\n",
    "\n",
    "    y_train = df_train.churn.values\n",
    "    y_val = df_val.churn.values\n",
    "\n",
    "    dv, model = train(df_train, y_train)\n",
    "    y_pred = predict(df_val, dv, model)\n",
    "\n",
    "    auc = roc_auc_score(y_val, y_pred)\n",
    "    auc_scores.append(auc)\n",
    "\n",
    "print(auc_scores)\n",
    "print(\"Mean AUC:\", np.mean(auc_scores))\n",
    "print(\"Std AUC:\", np.std(auc_scores))"
   ]
  },
  {
   "cell_type": "code",
   "execution_count": null,
   "id": "2605374a",
   "metadata": {},
   "outputs": [],
   "source": []
  },
  {
   "cell_type": "markdown",
   "id": "1d101fc8",
   "metadata": {},
   "source": [
    "Try adding StandardScaler"
   ]
  },
  {
   "cell_type": "code",
   "execution_count": 9,
   "id": "44a88525",
   "metadata": {},
   "outputs": [],
   "source": [
    "def train_sc(dfx_train, y_train, C=1.0):\n",
    "    #df_train.loc[:, numerical] = df_train[numerical].astype(float)\n",
    "    df_train = dfx_train.copy()\n",
    "    # for numerical columns, apply StandardScaler\n",
    "    scaler = StandardScaler()\n",
    "    scaler.fit(df_train[numerical])\n",
    "    df_train.loc[:, numerical] = scaler.transform(df_train[numerical])\n",
    "\n",
    "    dicts = df_train[categorical + numerical].to_dict(orient='records')\n",
    "\n",
    "    dv = DictVectorizer(sparse=False)\n",
    "    X_train = dv.fit_transform(dicts)\n",
    "\n",
    "    model = LogisticRegression(solver='liblinear', C=C, max_iter=1000)\n",
    "    model.fit(X_train, y_train)\n",
    "    \n",
    "    return dv, model, scaler"
   ]
  },
  {
   "cell_type": "code",
   "execution_count": 10,
   "id": "f7c7b0c4",
   "metadata": {},
   "outputs": [],
   "source": [
    "def predict_sc(dfx, dv, model, scaler):\n",
    "    df = dfx.copy()\n",
    "    #df.loc[:, numerical] = df[numerical].astype(float)\n",
    "    df.loc[:, numerical] = scaler.transform(df[numerical])\n",
    "    dicts = df[categorical + numerical].to_dict(orient='records')\n",
    "\n",
    "    X = dv.transform(dicts)\n",
    "    y_pred = model.predict_proba(X)[:, 1]\n",
    "\n",
    "    return y_pred"
   ]
  },
  {
   "cell_type": "code",
   "execution_count": 11,
   "id": "9d5c74a3",
   "metadata": {},
   "outputs": [
    {
     "name": "stdout",
     "output_type": "stream",
     "text": [
      "[0.8445337582717775, 0.8449025791285922, 0.8334136062612884, 0.8344251614759866, 0.8515068557622917]\n",
      "Mean AUC: 0.8417563921799873\n",
      "Std AUC: 0.006870703243682796\n"
     ]
    }
   ],
   "source": [
    "kfold = KFold(n_splits=5, shuffle=True, random_state=1)\n",
    "\n",
    "auc_scores_sc = []\n",
    "\n",
    "for train_idx, val_idx in kfold.split(df_full_train):\n",
    "    df_train = df_full_train.iloc[train_idx]\n",
    "    df_val = df_full_train.iloc[val_idx]\n",
    "\n",
    "    y_train = df_train.churn.values\n",
    "    y_val = df_val.churn.values\n",
    "\n",
    "    dv, model, scaler = train_sc(df_train, y_train)\n",
    "    y_pred = predict_sc(df_val, dv, model, scaler)\n",
    "\n",
    "    auc = roc_auc_score(y_val, y_pred)\n",
    "    auc_scores_sc.append(auc)\n",
    "\n",
    "print(auc_scores_sc)\n",
    "print(\"Mean AUC:\", np.mean(auc_scores_sc))\n",
    "print(\"Std AUC:\", np.std(auc_scores_sc))"
   ]
  },
  {
   "cell_type": "code",
   "execution_count": null,
   "id": "aa1609f8",
   "metadata": {},
   "outputs": [],
   "source": []
  },
  {
   "cell_type": "markdown",
   "id": "7145f17c",
   "metadata": {},
   "source": [
    "Change C value"
   ]
  },
  {
   "cell_type": "code",
   "execution_count": 14,
   "id": "b7f771ac",
   "metadata": {},
   "outputs": [
    {
     "name": "stdout",
     "output_type": "stream",
     "text": [
      "C=0.01\n",
      "[0.8446044069047264, 0.8447577307641372, 0.8296207104154124, 0.8274065517682421, 0.8467964607323272]\n",
      "Mean AUC: 0.838637172116969\n",
      "Std AUC: 0.008331464876085558\n",
      "-----\n",
      "C=0.1\n",
      "[0.8450950224113163, 0.8445963283008873, 0.8322175396347582, 0.8326225458847606, 0.8497458504596654]\n",
      "Mean AUC: 0.8408554573382776\n",
      "Std AUC: 0.007119010755357397\n",
      "-----\n",
      "C=1.0\n",
      "[0.8445337582717775, 0.8449025791285922, 0.8334136062612884, 0.8344251614759866, 0.8515068557622917]\n",
      "Mean AUC: 0.8417563921799873\n",
      "Std AUC: 0.006870703243682796\n",
      "-----\n",
      "C=10.0\n",
      "[0.844007818448713, 0.8448322242087141, 0.8336584386915513, 0.8347529097653001, 0.8519971133632456]\n",
      "Mean AUC: 0.8418497008955048\n",
      "Std AUC: 0.006840820379419872\n",
      "-----\n",
      "C=100\n",
      "[0.8438586713347096, 0.844658406171368, 0.8335460565924142, 0.8348248545117349, 0.8519814251200151]\n",
      "Mean AUC: 0.8417738827460483\n",
      "Std AUC: 0.006824175507453879\n",
      "-----\n"
     ]
    }
   ],
   "source": [
    "array_c = [0.01, 0.1, 1.0, 10.0, 100]\n",
    "\n",
    "for c in array_c:\n",
    "    kfold = KFold(n_splits=5, shuffle=True, random_state=1)\n",
    "\n",
    "    auc_scores_c = []\n",
    "\n",
    "    for train_idx, val_idx in kfold.split(df_full_train):\n",
    "        df_train = df_full_train.iloc[train_idx]\n",
    "        df_val = df_full_train.iloc[val_idx]\n",
    "\n",
    "        y_train = df_train.churn.values \n",
    "        y_val = df_val.churn.values\n",
    "\n",
    "        dv, model, scaler= train_sc(df_train, y_train, C=c)\n",
    "        y_pred = predict_sc(df_val, dv, model, scaler)\n",
    "\n",
    "        auc = roc_auc_score(y_val, y_pred)\n",
    "        auc_scores_c.append(auc)\n",
    "\n",
    "    print(f\"C={c}\")\n",
    "    print(auc_scores_c)\n",
    "    print(\"Mean AUC:\", np.mean(auc_scores_c))\n",
    "    print(\"Std AUC:\", np.std(auc_scores_c))\n",
    "    print(\"-----\")"
   ]
  },
  {
   "cell_type": "code",
   "execution_count": null,
   "id": "bcd06072",
   "metadata": {},
   "outputs": [],
   "source": []
  },
  {
   "cell_type": "code",
   "execution_count": null,
   "id": "9746a74d",
   "metadata": {},
   "outputs": [],
   "source": []
  },
  {
   "cell_type": "markdown",
   "id": "3deb522e",
   "metadata": {},
   "source": [
    "Train final model with full dataset, train+val"
   ]
  },
  {
   "cell_type": "code",
   "execution_count": 15,
   "id": "bd3952bf",
   "metadata": {},
   "outputs": [],
   "source": [
    "# combine train and val\n",
    "df_full_train = pd.concat([df_train, df_val]).reset_index(drop=True)\n",
    "y_full_train = df_full_train.churn.values\n"
   ]
  },
  {
   "cell_type": "code",
   "execution_count": 17,
   "id": "2af3c6c3",
   "metadata": {},
   "outputs": [
    {
     "name": "stdout",
     "output_type": "stream",
     "text": [
      "0.8575284106297465\n"
     ]
    }
   ],
   "source": [
    "# use C = 1\n",
    "dv_full, model_full, scaler_full = train_sc(df_train, y_train, C=1)\n",
    "y_pred_full = predict_sc(df_test, dv_full, model_full, scaler_full)\n",
    "\n",
    "auc_full = roc_auc_score(y_test, y_pred_full)\n",
    "\n",
    "print(auc_full)"
   ]
  },
  {
   "cell_type": "code",
   "execution_count": 16,
   "id": "e2062cbf",
   "metadata": {},
   "outputs": [
    {
     "name": "stdout",
     "output_type": "stream",
     "text": [
      "0.8577234120922574\n"
     ]
    }
   ],
   "source": [
    "# use C = 10\n",
    "dv_full, model_full, scaler_full = train_sc(df_train, y_train, C=10)\n",
    "y_pred_full = predict_sc(df_test, dv_full, model_full, scaler_full)\n",
    "\n",
    "auc_full = roc_auc_score(y_test, y_pred_full)\n",
    "\n",
    "print(auc_full)"
   ]
  },
  {
   "cell_type": "markdown",
   "id": "9b02d089",
   "metadata": {},
   "source": [
    "AUC with C=10, is better. Choose model with C=10"
   ]
  },
  {
   "cell_type": "code",
   "execution_count": null,
   "id": "5e21fbff",
   "metadata": {},
   "outputs": [],
   "source": []
  },
  {
   "cell_type": "code",
   "execution_count": null,
   "id": "8f5a5b5a",
   "metadata": {},
   "outputs": [],
   "source": []
  },
  {
   "cell_type": "code",
   "execution_count": null,
   "id": "3ecd8751",
   "metadata": {},
   "outputs": [],
   "source": []
  }
 ],
 "metadata": {
  "kernelspec": {
   "display_name": "ml",
   "language": "python",
   "name": "python3"
  },
  "language_info": {
   "codemirror_mode": {
    "name": "ipython",
    "version": 3
   },
   "file_extension": ".py",
   "mimetype": "text/x-python",
   "name": "python",
   "nbconvert_exporter": "python",
   "pygments_lexer": "ipython3",
   "version": "3.12.9"
  }
 },
 "nbformat": 4,
 "nbformat_minor": 5
}
