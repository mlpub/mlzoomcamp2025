{
 "cells": [
  {
   "cell_type": "markdown",
   "id": "4c3f2e07",
   "metadata": {},
   "source": [
    "# 04 homework"
   ]
  },
  {
   "cell_type": "code",
   "execution_count": 1,
   "id": "5385589e",
   "metadata": {},
   "outputs": [],
   "source": [
    "import numpy as np\n",
    "import pandas as pd\n",
    "import matplotlib.pyplot as plt\n",
    "from sklearn.metrics import confusion_matrix\n",
    "from sklearn.model_selection import train_test_split\n",
    "from sklearn.metrics import roc_auc_score\n",
    "\n",
    "from sklearn.feature_extraction import DictVectorizer\n",
    "from sklearn.linear_model import LogisticRegression\n",
    "from sklearn.model_selection import KFold"
   ]
  },
  {
   "cell_type": "markdown",
   "id": "1c06ab93",
   "metadata": {},
   "source": [
    "Data preparation\n",
    "* Check if the missing values are presented in the features.\n",
    "* If there are missing values:\n",
    "  * For caterogiral features, replace them with 'NA'\n",
    "  * For numerical features, replace with with 0.0\n",
    "\n",
    "Split the data into 3 parts: train/validation/test with 60%/20%/20% distribution. Use train_test_split function for that with random_state=1"
   ]
  },
  {
   "cell_type": "code",
   "execution_count": 2,
   "id": "b25330ca",
   "metadata": {},
   "outputs": [],
   "source": [
    "data = \"https://raw.githubusercontent.com/alexeygrigorev/datasets/master/course_lead_scoring.csv\""
   ]
  },
  {
   "cell_type": "code",
   "execution_count": 3,
   "id": "8ee64b1b",
   "metadata": {},
   "outputs": [
    {
     "data": {
      "application/vnd.microsoft.datawrangler.viewer.v0+json": {
       "columns": [
        {
         "name": "index",
         "rawType": "int64",
         "type": "integer"
        },
        {
         "name": "lead_source",
         "rawType": "object",
         "type": "string"
        },
        {
         "name": "industry",
         "rawType": "object",
         "type": "unknown"
        },
        {
         "name": "number_of_courses_viewed",
         "rawType": "int64",
         "type": "integer"
        },
        {
         "name": "annual_income",
         "rawType": "float64",
         "type": "float"
        },
        {
         "name": "employment_status",
         "rawType": "object",
         "type": "unknown"
        },
        {
         "name": "location",
         "rawType": "object",
         "type": "string"
        },
        {
         "name": "interaction_count",
         "rawType": "int64",
         "type": "integer"
        },
        {
         "name": "lead_score",
         "rawType": "float64",
         "type": "float"
        },
        {
         "name": "converted",
         "rawType": "int64",
         "type": "integer"
        }
       ],
       "ref": "4cc745c6-93d0-4528-b2c4-2124de0b3918",
       "rows": [
        [
         "0",
         "paid_ads",
         null,
         "1",
         "79450.0",
         "unemployed",
         "south_america",
         "4",
         "0.94",
         "1"
        ],
        [
         "1",
         "social_media",
         "retail",
         "1",
         "46992.0",
         "employed",
         "south_america",
         "1",
         "0.8",
         "0"
        ],
        [
         "2",
         "events",
         "healthcare",
         "5",
         "78796.0",
         "unemployed",
         "australia",
         "3",
         "0.69",
         "1"
        ],
        [
         "3",
         "paid_ads",
         "retail",
         "2",
         "83843.0",
         null,
         "australia",
         "1",
         "0.87",
         "0"
        ]
       ],
       "shape": {
        "columns": 9,
        "rows": 4
       }
      },
      "text/html": [
       "<div>\n",
       "<style scoped>\n",
       "    .dataframe tbody tr th:only-of-type {\n",
       "        vertical-align: middle;\n",
       "    }\n",
       "\n",
       "    .dataframe tbody tr th {\n",
       "        vertical-align: top;\n",
       "    }\n",
       "\n",
       "    .dataframe thead th {\n",
       "        text-align: right;\n",
       "    }\n",
       "</style>\n",
       "<table border=\"1\" class=\"dataframe\">\n",
       "  <thead>\n",
       "    <tr style=\"text-align: right;\">\n",
       "      <th></th>\n",
       "      <th>lead_source</th>\n",
       "      <th>industry</th>\n",
       "      <th>number_of_courses_viewed</th>\n",
       "      <th>annual_income</th>\n",
       "      <th>employment_status</th>\n",
       "      <th>location</th>\n",
       "      <th>interaction_count</th>\n",
       "      <th>lead_score</th>\n",
       "      <th>converted</th>\n",
       "    </tr>\n",
       "  </thead>\n",
       "  <tbody>\n",
       "    <tr>\n",
       "      <th>0</th>\n",
       "      <td>paid_ads</td>\n",
       "      <td>NaN</td>\n",
       "      <td>1</td>\n",
       "      <td>79450.0</td>\n",
       "      <td>unemployed</td>\n",
       "      <td>south_america</td>\n",
       "      <td>4</td>\n",
       "      <td>0.94</td>\n",
       "      <td>1</td>\n",
       "    </tr>\n",
       "    <tr>\n",
       "      <th>1</th>\n",
       "      <td>social_media</td>\n",
       "      <td>retail</td>\n",
       "      <td>1</td>\n",
       "      <td>46992.0</td>\n",
       "      <td>employed</td>\n",
       "      <td>south_america</td>\n",
       "      <td>1</td>\n",
       "      <td>0.80</td>\n",
       "      <td>0</td>\n",
       "    </tr>\n",
       "    <tr>\n",
       "      <th>2</th>\n",
       "      <td>events</td>\n",
       "      <td>healthcare</td>\n",
       "      <td>5</td>\n",
       "      <td>78796.0</td>\n",
       "      <td>unemployed</td>\n",
       "      <td>australia</td>\n",
       "      <td>3</td>\n",
       "      <td>0.69</td>\n",
       "      <td>1</td>\n",
       "    </tr>\n",
       "    <tr>\n",
       "      <th>3</th>\n",
       "      <td>paid_ads</td>\n",
       "      <td>retail</td>\n",
       "      <td>2</td>\n",
       "      <td>83843.0</td>\n",
       "      <td>NaN</td>\n",
       "      <td>australia</td>\n",
       "      <td>1</td>\n",
       "      <td>0.87</td>\n",
       "      <td>0</td>\n",
       "    </tr>\n",
       "  </tbody>\n",
       "</table>\n",
       "</div>"
      ],
      "text/plain": [
       "    lead_source    industry  number_of_courses_viewed  annual_income  \\\n",
       "0      paid_ads         NaN                         1        79450.0   \n",
       "1  social_media      retail                         1        46992.0   \n",
       "2        events  healthcare                         5        78796.0   \n",
       "3      paid_ads      retail                         2        83843.0   \n",
       "\n",
       "  employment_status       location  interaction_count  lead_score  converted  \n",
       "0        unemployed  south_america                  4        0.94          1  \n",
       "1          employed  south_america                  1        0.80          0  \n",
       "2        unemployed      australia                  3        0.69          1  \n",
       "3               NaN      australia                  1        0.87          0  "
      ]
     },
     "execution_count": 3,
     "metadata": {},
     "output_type": "execute_result"
    }
   ],
   "source": [
    "df = pd.read_csv(data)\n",
    "df.head(4)"
   ]
  },
  {
   "cell_type": "code",
   "execution_count": 4,
   "id": "48261508",
   "metadata": {},
   "outputs": [
    {
     "name": "stdout",
     "output_type": "stream",
     "text": [
      "<class 'pandas.core.frame.DataFrame'>\n",
      "RangeIndex: 1462 entries, 0 to 1461\n",
      "Data columns (total 9 columns):\n",
      " #   Column                    Non-Null Count  Dtype  \n",
      "---  ------                    --------------  -----  \n",
      " 0   lead_source               1334 non-null   object \n",
      " 1   industry                  1328 non-null   object \n",
      " 2   number_of_courses_viewed  1462 non-null   int64  \n",
      " 3   annual_income             1281 non-null   float64\n",
      " 4   employment_status         1362 non-null   object \n",
      " 5   location                  1399 non-null   object \n",
      " 6   interaction_count         1462 non-null   int64  \n",
      " 7   lead_score                1462 non-null   float64\n",
      " 8   converted                 1462 non-null   int64  \n",
      "dtypes: float64(2), int64(3), object(4)\n",
      "memory usage: 102.9+ KB\n"
     ]
    }
   ],
   "source": [
    "df.info()"
   ]
  },
  {
   "cell_type": "code",
   "execution_count": 5,
   "id": "8a92e259",
   "metadata": {},
   "outputs": [],
   "source": [
    "categorical_columns = ['lead_source', 'industry', 'employment_status', 'location']\n",
    "numerical_columns = ['number_of_courses_viewed', 'annual_income', 'interaction_count', 'lead_score']"
   ]
  },
  {
   "cell_type": "code",
   "execution_count": 6,
   "id": "7dfd6b77",
   "metadata": {},
   "outputs": [
    {
     "data": {
      "application/vnd.microsoft.datawrangler.viewer.v0+json": {
       "columns": [
        {
         "name": "index",
         "rawType": "object",
         "type": "string"
        },
        {
         "name": "0",
         "rawType": "int64",
         "type": "integer"
        }
       ],
       "ref": "abcefd0e-05c3-4112-afb6-96befc3233da",
       "rows": [
        [
         "lead_source",
         "128"
        ],
        [
         "industry",
         "134"
        ],
        [
         "number_of_courses_viewed",
         "0"
        ],
        [
         "annual_income",
         "181"
        ],
        [
         "employment_status",
         "100"
        ],
        [
         "location",
         "63"
        ],
        [
         "interaction_count",
         "0"
        ],
        [
         "lead_score",
         "0"
        ],
        [
         "converted",
         "0"
        ]
       ],
       "shape": {
        "columns": 1,
        "rows": 9
       }
      },
      "text/plain": [
       "lead_source                 128\n",
       "industry                    134\n",
       "number_of_courses_viewed      0\n",
       "annual_income               181\n",
       "employment_status           100\n",
       "location                     63\n",
       "interaction_count             0\n",
       "lead_score                    0\n",
       "converted                     0\n",
       "dtype: int64"
      ]
     },
     "execution_count": 6,
     "metadata": {},
     "output_type": "execute_result"
    }
   ],
   "source": [
    "df.isna().sum()"
   ]
  },
  {
   "cell_type": "code",
   "execution_count": 7,
   "id": "377f05de",
   "metadata": {},
   "outputs": [],
   "source": [
    "df[categorical_columns] = df[categorical_columns].fillna('NA')\n",
    "df[numerical_columns] = df[numerical_columns].fillna(0)"
   ]
  },
  {
   "cell_type": "code",
   "execution_count": 8,
   "id": "2e7b207c",
   "metadata": {},
   "outputs": [
    {
     "name": "stdout",
     "output_type": "stream",
     "text": [
      "876 293 293\n"
     ]
    }
   ],
   "source": [
    "df_train, df_test = train_test_split(df, test_size=0.2, random_state=1)\n",
    "df_train, df_val = train_test_split(df_train, test_size=0.25, random_state=1) \n",
    "\n",
    "print(len(df_train), len(df_val), len(df_test))"
   ]
  },
  {
   "cell_type": "code",
   "execution_count": 9,
   "id": "b4dc4760",
   "metadata": {},
   "outputs": [],
   "source": [
    "y_train = df_train['converted'].reset_index(drop=True)\n",
    "y_val = df_val['converted'].reset_index(drop=True)\n",
    "y_test = df_test['converted'].reset_index(drop=True)\n",
    "\n",
    "del df_train['converted']\n",
    "del df_val['converted']\n",
    "del df_test['converted']"
   ]
  },
  {
   "cell_type": "code",
   "execution_count": null,
   "id": "312de62f",
   "metadata": {},
   "outputs": [],
   "source": []
  },
  {
   "cell_type": "markdown",
   "id": "4d3cef68",
   "metadata": {},
   "source": [
    "### Question 1: ROC AUC feature importance\n",
    "\n",
    "ROC AUC could also be used to evaluate feature importance of numerical variables. \n",
    "\n",
    "Let's do that\n",
    "\n",
    "* For each numerical variable, use it as score (aka prediction) and compute the AUC with the `y` variable as ground truth.\n",
    "* Use the training dataset for that\n",
    "\n",
    "\n",
    "If your AUC is < 0.5, invert this variable by putting \"-\" in front\n",
    "\n",
    "(e.g. `-df_train['balance']`)\n",
    "\n",
    "AUC can go below 0.5 if the variable is negatively correlated with the target variable. You can change the direction of the correlation by negating this variable - then negative correlation becomes positive.\n",
    "\n",
    "Which numerical variable (among the following 4) has the highest AUC?\n",
    "\n",
    "- `lead_score`\n",
    "- `number_of_courses_viewed`\n",
    "- `interaction_count`\n",
    "- `annual_income`"
   ]
  },
  {
   "cell_type": "code",
   "execution_count": 10,
   "id": "a213fec6",
   "metadata": {},
   "outputs": [
    {
     "data": {
      "text/plain": [
       "{'number_of_courses_viewed': 0.7635680590007088,\n",
       " 'annual_income': 0.5519578313253012,\n",
       " 'interaction_count': 0.738270176293409,\n",
       " 'lead_score': 0.6144993577250176}"
      ]
     },
     "execution_count": 10,
     "metadata": {},
     "output_type": "execute_result"
    }
   ],
   "source": [
    "auc_scores = {}\n",
    "\n",
    "for c in numerical_columns:\n",
    "    auc = roc_auc_score(y_train.to_numpy(), df_train[c].to_numpy())\n",
    "    #auc = max(auc, 1 - auc)  # handle inverse correlation\n",
    "    auc_scores[c] = auc\n",
    "\n",
    "auc_scores"
   ]
  },
  {
   "cell_type": "code",
   "execution_count": 11,
   "id": "127f3ed8",
   "metadata": {},
   "outputs": [
    {
     "name": "stdout",
     "output_type": "stream",
     "text": [
      "[1 0 0 1 0 0 1 0 1 1]\n",
      "[65782. 68293. 56746. 52409. 58164. 61242. 62672. 63391. 62630. 82306.]\n"
     ]
    }
   ],
   "source": [
    "print(y_train[10:20].to_numpy())\n",
    "print(df_train['annual_income'][10:20].to_numpy())"
   ]
  },
  {
   "cell_type": "code",
   "execution_count": 12,
   "id": "55c0098c",
   "metadata": {},
   "outputs": [
    {
     "data": {
      "text/plain": [
       "0.6"
      ]
     },
     "execution_count": 12,
     "metadata": {},
     "output_type": "execute_result"
    }
   ],
   "source": [
    "roc_auc_score(y_train[10:20].to_numpy(), df_train['annual_income'][10:20].to_numpy())"
   ]
  },
  {
   "cell_type": "code",
   "execution_count": null,
   "id": "e8d86e16",
   "metadata": {},
   "outputs": [],
   "source": []
  },
  {
   "cell_type": "code",
   "execution_count": null,
   "id": "0ad1db67",
   "metadata": {},
   "outputs": [],
   "source": []
  },
  {
   "cell_type": "markdown",
   "id": "2a77c1f4",
   "metadata": {},
   "source": [
    "### Question 2: Training the model\n",
    "\n",
    "Apply one-hot-encoding using `DictVectorizer` and train the logistic regression with these parameters:\n",
    "\n",
    "```python\n",
    "LogisticRegression(solver='liblinear', C=1.0, max_iter=1000)\n",
    "```\n",
    "\n",
    "What's the AUC of this model on the validation dataset? (round to 3 digits)\n",
    "\n",
    "- 0.32\n",
    "- 0.52\n",
    "- 0.72\n",
    "- 0.92"
   ]
  },
  {
   "cell_type": "code",
   "execution_count": 13,
   "id": "54a4e385",
   "metadata": {},
   "outputs": [],
   "source": [
    "def train(xtrain, ytrain, C=1.0, max_iter=1000):\n",
    "    # do standard scaler for numerical columns\n",
    "    for col in xtrain.select_dtypes(include=['float64', 'int64']).columns:\n",
    "        xtrain[col] = (xtrain[col] - xtrain[col].mean()) / xtrain[col].std()\n",
    "\n",
    "    dicts = xtrain.to_dict(orient='records')\n",
    "\n",
    "    dv = DictVectorizer(sparse=False)\n",
    "    X_train = dv.fit_transform(dicts)\n",
    "    #print(X_train.shape)\n",
    "\n",
    "    model = LogisticRegression(solver='liblinear', C=C, max_iter=max_iter)\n",
    "    model.fit(X_train, ytrain)\n",
    "\n",
    "    return dv, model"
   ]
  },
  {
   "cell_type": "code",
   "execution_count": 14,
   "id": "86780e72",
   "metadata": {},
   "outputs": [],
   "source": [
    "def predict(xval, dv, model):\n",
    "    # do standard scaler for numerical columns\n",
    "    for col in xval.select_dtypes(include=['float64', 'int64']).columns:\n",
    "        xval[col] = (xval[col] - xval[col].mean()) / xval[col].std()\n",
    "\n",
    "    dicts = xval.to_dict(orient='records')\n",
    "\n",
    "    X = dv.transform(dicts)\n",
    "    y_pred = model.predict_proba(X)[:, 1]\n",
    "\n",
    "    return y_pred"
   ]
  },
  {
   "cell_type": "code",
   "execution_count": 15,
   "id": "ff3cd5aa",
   "metadata": {},
   "outputs": [],
   "source": [
    "dv, model = train(df_train, y_train.to_numpy(), C=1.0, max_iter=1000)"
   ]
  },
  {
   "cell_type": "code",
   "execution_count": 16,
   "id": "b6c7eab1",
   "metadata": {},
   "outputs": [],
   "source": [
    "y_val_pred_proba = predict(df_val, dv, model)\n",
    "\n"
   ]
  },
  {
   "cell_type": "code",
   "execution_count": 17,
   "id": "4fa5c74c",
   "metadata": {},
   "outputs": [
    {
     "data": {
      "text/plain": [
       "0.9202377528520754"
      ]
     },
     "execution_count": 17,
     "metadata": {},
     "output_type": "execute_result"
    }
   ],
   "source": [
    "roc_auc_score(y_val.to_numpy(), y_val_pred_proba)"
   ]
  },
  {
   "cell_type": "code",
   "execution_count": null,
   "id": "3a720068",
   "metadata": {},
   "outputs": [],
   "source": []
  },
  {
   "cell_type": "code",
   "execution_count": null,
   "id": "45cf4eb1",
   "metadata": {},
   "outputs": [],
   "source": []
  },
  {
   "cell_type": "markdown",
   "id": "b7262bd2",
   "metadata": {},
   "source": [
    "### Question 3: Precision and Recall\n",
    "\n",
    "Now let's compute precision and recall for our model.\n",
    "\n",
    "* Evaluate the model on all thresholds from 0.0 to 1.0 with step 0.01\n",
    "* For each threshold, compute precision and recall\n",
    "* Plot them\n",
    "\n",
    "At which threshold precision and recall curves intersect?\n",
    "\n",
    "* 0.145\n",
    "* 0.345\n",
    "* 0.545\n",
    "* 0.745\n"
   ]
  },
  {
   "cell_type": "code",
   "execution_count": 18,
   "id": "9322e94d",
   "metadata": {},
   "outputs": [],
   "source": [
    "# generate array from 0 to 1 with step 0.01\n",
    "thresholds = np.arange(0.0, 1.01, 0.01)\n",
    "\n",
    "array_precision = []\n",
    "array_recall = []"
   ]
  },
  {
   "cell_type": "code",
   "execution_count": 19,
   "id": "01d83ab8",
   "metadata": {},
   "outputs": [
    {
     "name": "stderr",
     "output_type": "stream",
     "text": [
      "C:\\Users\\biggi\\AppData\\Local\\Temp\\ipykernel_12248\\662838770.py:7: RuntimeWarning: invalid value encountered in scalar divide\n",
      "  precision = cf[1, 1] / (cf[1, 1] + cf[0, 1])\n"
     ]
    }
   ],
   "source": [
    "for t in thresholds:\n",
    "    y_val_pred = (y_val_pred_proba >= t).astype(int)\n",
    "\n",
    "    # calculate precision and recall\n",
    "    cf = confusion_matrix(y_val.to_numpy(), y_val_pred)\n",
    "\n",
    "    precision = cf[1, 1] / (cf[1, 1] + cf[0, 1])\n",
    "    recall = cf[1, 1] / (cf[1, 1] + cf[1, 0])\n",
    "    #print(precision, recall)\n",
    "\n",
    "    array_precision.append(precision)\n",
    "    array_recall.append(recall)\n",
    "\n",
    "    #break\n"
   ]
  },
  {
   "cell_type": "code",
   "execution_count": 20,
   "id": "cd6827d1",
   "metadata": {},
   "outputs": [
    {
     "data": {
      "image/png": "[encoded data removed]",
      "text/plain": [
       "<Figure size 640x480 with 1 Axes>"
      ]
     },
     "metadata": {},
     "output_type": "display_data"
    }
   ],
   "source": [
    "plt.plot(thresholds, array_precision, label='precision')\n",
    "plt.plot(thresholds, array_recall, label='recall')  \n",
    "plt.title('Precision and Recall vs Threshold')\n",
    "plt.xlabel('Threshold')\n",
    "plt.ylabel('Value')\n",
    "plt.legend()\n",
    "plt.show()"
   ]
  },
  {
   "cell_type": "code",
   "execution_count": 21,
   "id": "f2322c26",
   "metadata": {},
   "outputs": [
    {
     "name": "stdout",
     "output_type": "stream",
     "text": [
      "Threshold: 0.53, Precision: 0.877, Recall: 0.877\n"
     ]
    }
   ],
   "source": [
    "# threshold with precision cross recall\n",
    "for i in range(len(thresholds)):\n",
    "    if array_precision[i] >= array_recall[i]:\n",
    "        print(f'Threshold: {thresholds[i]:.2f}, Precision: {array_precision[i]:.3f}, Recall: {array_recall[i]:.3f}')\n",
    "        break"
   ]
  },
  {
   "cell_type": "code",
   "execution_count": null,
   "id": "696f273a",
   "metadata": {},
   "outputs": [],
   "source": []
  },
  {
   "cell_type": "markdown",
   "id": "6ab6eb4f",
   "metadata": {},
   "source": [
    "### Question 4: F1 score\n",
    "\n",
    "Precision and recall are conflicting - when one grows, the other goes down. That's why they are often combined into the F1 score - a metrics that takes into account both\n",
    "\n",
    "This is the formula for computing F1:\n",
    "\n",
    "$$F_1 = 2 \\cdot \\cfrac{P \\cdot R}{P + R}$$\n",
    "\n",
    "Where $P$ is precision and $R$ is recall.\n",
    "\n",
    "Let's compute F1 for all thresholds from 0.0 to 1.0 with increment 0.01\n",
    "\n",
    "At which threshold F1 is maximal?\n",
    "\n",
    "- 0.14\n",
    "- 0.34\n",
    "- 0.54\n",
    "- 0.74"
   ]
  },
  {
   "cell_type": "code",
   "execution_count": 22,
   "id": "fba1cc9d",
   "metadata": {},
   "outputs": [
    {
     "name": "stderr",
     "output_type": "stream",
     "text": [
      "C:\\Users\\biggi\\AppData\\Local\\Temp\\ipykernel_12248\\4064815228.py:12: RuntimeWarning: invalid value encountered in scalar divide\n",
      "  precision = cf[1, 1] / (cf[1, 1] + cf[0, 1])\n"
     ]
    }
   ],
   "source": [
    "# generate array from 0 to 1 with step 0.01\n",
    "thresholds = np.arange(0.0, 1.01, 0.01)\n",
    "\n",
    "array_f1 = []\n",
    "\n",
    "for t in thresholds:\n",
    "    y_val_pred = (y_val_pred_proba >= t).astype(int)\n",
    "\n",
    "    # calculate precision and recall\n",
    "    cf = confusion_matrix(y_val.to_numpy(), y_val_pred)\n",
    "\n",
    "    precision = cf[1, 1] / (cf[1, 1] + cf[0, 1])\n",
    "    recall = cf[1, 1] / (cf[1, 1] + cf[1, 0])\n",
    "\n",
    "    f1 = 2 * (precision * recall) / (precision + recall)\n",
    "    array_f1.append(f1)"
   ]
  },
  {
   "cell_type": "code",
   "execution_count": 23,
   "id": "99626abb",
   "metadata": {},
   "outputs": [
    {
     "data": {
      "image/png": "[encoded data removed]",
      "text/plain": [
       "<Figure size 640x480 with 1 Axes>"
      ]
     },
     "metadata": {},
     "output_type": "display_data"
    }
   ],
   "source": [
    "plt.plot(thresholds, array_f1, label='F1 Score')\n",
    "plt.title('F1 Score vs Threshold')\n",
    "plt.xlabel('Threshold')\n",
    "plt.ylabel('Value')\n",
    "plt.legend()\n",
    "plt.show()"
   ]
  },
  {
   "cell_type": "code",
   "execution_count": 24,
   "id": "ddbc103e",
   "metadata": {},
   "outputs": [
    {
     "name": "stdout",
     "output_type": "stream",
     "text": [
      "Max F1 Score: 0.880 at Threshold: 0.54\n"
     ]
    }
   ],
   "source": [
    "# get f1 max and the corresponding threshold\n",
    "max_f1 = max(array_f1)\n",
    "max_f1_threshold = thresholds[array_f1.index(max_f1)]\n",
    "\n",
    "print('Max F1 Score: {:.3f} at Threshold: {:.2f}'.format(max_f1, max_f1_threshold))"
   ]
  },
  {
   "cell_type": "code",
   "execution_count": null,
   "id": "96def7e3",
   "metadata": {},
   "outputs": [],
   "source": []
  },
  {
   "cell_type": "code",
   "execution_count": null,
   "id": "fcb0bca2",
   "metadata": {},
   "outputs": [],
   "source": []
  },
  {
   "cell_type": "markdown",
   "id": "ba96e1dd",
   "metadata": {},
   "source": [
    "### Question 5: 5-Fold CV\n",
    "\n",
    "\n",
    "Use the `KFold` class from Scikit-Learn to evaluate our model on 5 different folds:\n",
    "\n",
    "```\n",
    "KFold(n_splits=5, shuffle=True, random_state=1)\n",
    "```\n",
    "\n",
    "* Iterate over different folds of `df_full_train`\n",
    "* Split the data into train and validation\n",
    "* Train the model on train with these parameters: `LogisticRegression(solver='liblinear', C=1.0, max_iter=1000)`\n",
    "* Use AUC to evaluate the model on validation\n",
    "\n",
    "How large is standard deviation of the scores across different folds?\n",
    "\n",
    "- 0.0001\n",
    "- 0.006\n",
    "- 0.06\n",
    "- 0.36"
   ]
  },
  {
   "cell_type": "code",
   "execution_count": 25,
   "id": "7bd7550c",
   "metadata": {},
   "outputs": [
    {
     "name": "stdout",
     "output_type": "stream",
     "text": [
      "ROC AUC: 0.924\n",
      "ROC AUC: 0.912\n",
      "ROC AUC: 0.936\n",
      "ROC AUC: 0.928\n",
      "ROC AUC: 0.916\n",
      "Mean ROC AUC: 0.923\n",
      "STD ROC AUC: 0.008\n"
     ]
    }
   ],
   "source": [
    "kfold = KFold(n_splits=5, shuffle=True, random_state=1)\n",
    "\n",
    "array_auc = []\n",
    "\n",
    "for train_idx, val_idx in kfold.split(df):\n",
    "    x_train = df.iloc[train_idx].reset_index(drop=True)\n",
    "    x_val = df.iloc[val_idx].reset_index(drop=True)\n",
    "\n",
    "    y_train = df['converted'].iloc[train_idx].reset_index(drop=True)\n",
    "    y_val = df['converted'].iloc[val_idx].reset_index(drop=True)\n",
    "\n",
    "    del x_train['converted']\n",
    "    del x_val['converted']\n",
    "\n",
    "    dv, model = train(x_train, y_train.to_numpy(), C=1.0, max_iter=1000)\n",
    "    y_val_pred_proba = predict(x_val, dv, model)\n",
    "\n",
    "    auc = roc_auc_score(y_val.to_numpy(), y_val_pred_proba)\n",
    "    print(f'ROC AUC: {auc:.3f}')\n",
    "\n",
    "    array_auc.append(auc)\n",
    "\n",
    "print(f'Mean ROC AUC: {np.mean(array_auc):.3f}')\n",
    "print(f'STD ROC AUC: {np.std(array_auc):.3f}')"
   ]
  },
  {
   "cell_type": "code",
   "execution_count": null,
   "id": "a2b1ee0e",
   "metadata": {},
   "outputs": [],
   "source": []
  },
  {
   "cell_type": "code",
   "execution_count": null,
   "id": "1dc7b7f7",
   "metadata": {},
   "outputs": [],
   "source": []
  },
  {
   "cell_type": "markdown",
   "id": "892a319a",
   "metadata": {},
   "source": [
    "### Question 6: Hyperparameter Tuning\n",
    "\n",
    "Now let's use 5-Fold cross-validation to find the best parameter `C`\n",
    "\n",
    "* Iterate over the following `C` values: `[0.000001, 0.001, 1]`\n",
    "* Initialize `KFold` with the same parameters as previously\n",
    "* Use these parameters for the model: `LogisticRegression(solver='liblinear', C=C, max_iter=1000)`\n",
    "* Compute the mean score as well as the std (round the mean and std to 3 decimal digits)\n",
    "\n",
    "Which `C` leads to the best mean score?\n",
    "\n",
    "- 0.000001\n",
    "- 0.001\n",
    "- 1\n",
    "\n",
    "If you have ties, select the score with the lowest std. If you still have ties, select the smallest `C`."
   ]
  },
  {
   "cell_type": "code",
   "execution_count": 27,
   "id": "07520d85",
   "metadata": {},
   "outputs": [
    {
     "name": "stdout",
     "output_type": "stream",
     "text": [
      "c = 1e-06\n",
      "ROC AUC: 0.885\n",
      "ROC AUC: 0.891\n",
      "ROC AUC: 0.907\n",
      "ROC AUC: 0.917\n",
      "ROC AUC: 0.905\n",
      "Mean ROC AUC: 0.901\n",
      "STD ROC AUC: 0.011\n",
      "-----\n",
      "c = 0.001\n",
      "ROC AUC: 0.889\n",
      "ROC AUC: 0.893\n",
      "ROC AUC: 0.910\n",
      "ROC AUC: 0.918\n",
      "ROC AUC: 0.908\n",
      "Mean ROC AUC: 0.904\n",
      "STD ROC AUC: 0.011\n",
      "-----\n",
      "c = 1\n",
      "ROC AUC: 0.924\n",
      "ROC AUC: 0.912\n",
      "ROC AUC: 0.936\n",
      "ROC AUC: 0.928\n",
      "ROC AUC: 0.916\n",
      "Mean ROC AUC: 0.923\n",
      "STD ROC AUC: 0.008\n",
      "-----\n"
     ]
    }
   ],
   "source": [
    "array_c = [0.000001, 0.001, 1]\n",
    "\n",
    "kfold = KFold(n_splits=5, shuffle=True, random_state=1)\n",
    "\n",
    "\n",
    "for c in array_c:\n",
    "    array_auc = []\n",
    "\n",
    "    print('c =', c)\n",
    "    for train_idx, val_idx in kfold.split(df):\n",
    "        x_train = df.iloc[train_idx].reset_index(drop=True)\n",
    "        x_val = df.iloc[val_idx].reset_index(drop=True)\n",
    "\n",
    "        y_train = df['converted'].iloc[train_idx].reset_index(drop=True)\n",
    "        y_val = df['converted'].iloc[val_idx].reset_index(drop=True)\n",
    "\n",
    "        del x_train['converted']\n",
    "        del x_val['converted']\n",
    "\n",
    "        dv, model = train(x_train, y_train.to_numpy(), C=c, max_iter=1000)\n",
    "        y_val_pred_proba = predict(x_val, dv, model)\n",
    "\n",
    "        auc = roc_auc_score(y_val.to_numpy(), y_val_pred_proba)\n",
    "        print(f'ROC AUC: {auc:.3f}')\n",
    "\n",
    "        array_auc.append(auc)\n",
    "\n",
    "    print(f'Mean ROC AUC: {np.mean(array_auc):.3f}')\n",
    "    print(f'STD ROC AUC: {np.std(array_auc):.3f}')\n",
    "    print('-----')"
   ]
  },
  {
   "cell_type": "code",
   "execution_count": null,
   "id": "fa97522d",
   "metadata": {},
   "outputs": [],
   "source": []
  }
 ],
 "metadata": {
  "kernelspec": {
   "display_name": "ml",
   "language": "python",
   "name": "python3"
  },
  "language_info": {
   "codemirror_mode": {
    "name": "ipython",
    "version": 3
   },
   "file_extension": ".py",
   "mimetype": "text/x-python",
   "name": "python",
   "nbconvert_exporter": "python",
   "pygments_lexer": "ipython3",
   "version": "3.12.9"
  }
 },
 "nbformat": 4,
 "nbformat_minor": 5
}
