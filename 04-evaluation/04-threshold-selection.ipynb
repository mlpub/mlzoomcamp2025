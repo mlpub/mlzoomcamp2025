{
 "cells": [
  {
   "cell_type": "markdown",
   "id": "4c3f2e07",
   "metadata": {},
   "source": [
    "# 04 Threshold selection"
   ]
  },
  {
   "cell_type": "code",
   "execution_count": 27,
   "id": "5385589e",
   "metadata": {},
   "outputs": [],
   "source": [
    "import numpy as np\n",
    "import pandas as pd\n",
    "import matplotlib.pyplot as plt\n",
    "from sklearn.metrics import confusion_matrix\n",
    "from sklearn.feature_extraction import DictVectorizer\n",
    "from sklearn.preprocessing import StandardScaler\n",
    "from sklearn.linear_model import LogisticRegression\n",
    "from sklearn.model_selection import train_test_split\n",
    "from sklearn.metrics import f1_score, roc_auc_score, precision_recall_curve, precision_score, recall_score"
   ]
  },
  {
   "cell_type": "code",
   "execution_count": 4,
   "id": "8314db4d",
   "metadata": {},
   "outputs": [],
   "source": [
    "data = \"https://raw.githubusercontent.com/alexeygrigorev/mlbookcamp-code/master/chapter-03-churn-prediction/WA_Fn-UseC_-Telco-Customer-Churn.csv\""
   ]
  },
  {
   "cell_type": "code",
   "execution_count": 5,
   "id": "10d16002",
   "metadata": {},
   "outputs": [],
   "source": [
    "df = pd.read_csv(data)\n",
    "\n",
    "df.columns = df.columns.str.lower().str.replace(' ', '_')\n",
    "\n",
    "categorical_columns = list(df.dtypes[df.dtypes == 'object'].index)\n",
    "\n",
    "for c in categorical_columns:\n",
    "    df[c] = df[c].str.lower().str.replace(' ', '_')\n",
    "\n",
    "df.totalcharges = pd.to_numeric(df.totalcharges, errors='coerce')\n",
    "df.totalcharges = df.totalcharges.fillna(0)\n",
    "\n",
    "df.churn = (df.churn == 'yes').astype(int)\n",
    "\n",
    "df['tenure'] = df.tenure.astype(float)"
   ]
  },
  {
   "cell_type": "code",
   "execution_count": 6,
   "id": "b6a8444f",
   "metadata": {},
   "outputs": [],
   "source": [
    "df_full_train, df_test = train_test_split(df, test_size=0.2, random_state=1)\n",
    "df_train, df_val = train_test_split(df_full_train, test_size=0.25, random_state=1)\n",
    "\n",
    "df_train = df_train.reset_index(drop=True)\n",
    "df_val = df_val.reset_index(drop=True)\n",
    "df_test = df_test.reset_index(drop=True)\n",
    "\n",
    "y_train = df_train.churn.values\n",
    "y_val = df_val.churn.values\n",
    "y_test = df_test.churn.values\n",
    "\n",
    "del df_train['churn']\n",
    "del df_val['churn']\n",
    "del df_test['churn']"
   ]
  },
  {
   "cell_type": "code",
   "execution_count": 7,
   "id": "b644466d",
   "metadata": {},
   "outputs": [],
   "source": [
    "numerical = ['tenure', 'monthlycharges', 'totalcharges']\n",
    "\n",
    "categorical = [\n",
    "    'gender',\n",
    "    'seniorcitizen',\n",
    "    'partner',\n",
    "    'dependents',\n",
    "    'phoneservice',\n",
    "    'multiplelines',\n",
    "    'internetservice',\n",
    "    'onlinesecurity',\n",
    "    'onlinebackup',\n",
    "    'deviceprotection',\n",
    "    'techsupport',\n",
    "    'streamingtv',\n",
    "    'streamingmovies',\n",
    "    'contract',\n",
    "    'paperlessbilling',\n",
    "    'paymentmethod',\n",
    "]"
   ]
  },
  {
   "cell_type": "code",
   "execution_count": 8,
   "id": "bb72bc1b",
   "metadata": {},
   "outputs": [],
   "source": [
    "def train(df_train, y_train, C=1.0):\n",
    "    dicts = df_train[categorical + numerical].to_dict(orient='records')\n",
    "\n",
    "    dv = DictVectorizer(sparse=False)\n",
    "    X_train = dv.fit_transform(dicts)\n",
    "\n",
    "    model = LogisticRegression(solver='liblinear', C=C, max_iter=1000)\n",
    "    model.fit(X_train, y_train)\n",
    "    \n",
    "    return dv, model"
   ]
  },
  {
   "cell_type": "code",
   "execution_count": 9,
   "id": "93b08ced",
   "metadata": {},
   "outputs": [],
   "source": [
    "def predict(df, dv, model):\n",
    "    dicts = df[categorical + numerical].to_dict(orient='records')\n",
    "\n",
    "    X = dv.transform(dicts)\n",
    "    y_pred = model.predict_proba(X)[:, 1]\n",
    "\n",
    "    return y_pred"
   ]
  },
  {
   "cell_type": "code",
   "execution_count": 30,
   "id": "d14e815a",
   "metadata": {},
   "outputs": [],
   "source": [
    "thresholds = np.linspace(0, 1, 101)\n",
    "\n",
    "dv, model = train(df_train, y_train)\n",
    "y_pred = predict(df_val, dv, model)\n",
    "\n",
    "for th in thresholds:\n",
    "    y_pred_bin = (y_pred >= th).astype(int)\n",
    "\n",
    "    f1 = f1_score(y_val, y_pred_bin)\n",
    "    auc = roc_auc_score(y_val, y_pred)\n",
    "    precision, recall, _ = precision_recall_curve(y_val, y_pred_bin)\n",
    "    #print(f\"Threshold: {th:.2f}, F1: {f1:.5f}, AUC: {auc:.5f}\")\n",
    "    #print(f\"Precision: {precision[1]:.5f}, Recall: {recall[1]:.5f}\")\n",
    "    #break\n"
   ]
  },
  {
   "cell_type": "code",
   "execution_count": null,
   "id": "2605374a",
   "metadata": {},
   "outputs": [],
   "source": []
  },
  {
   "cell_type": "markdown",
   "id": "1d101fc8",
   "metadata": {},
   "source": [
    "Try adding StandardScaler"
   ]
  },
  {
   "cell_type": "code",
   "execution_count": 31,
   "id": "44a88525",
   "metadata": {},
   "outputs": [],
   "source": [
    "def train_sc(dfx_train, y_train, C=1.0):\n",
    "    #df_train.loc[:, numerical] = df_train[numerical].astype(float)\n",
    "    df_train = dfx_train.copy()\n",
    "    # for numerical columns, apply StandardScaler\n",
    "    scaler = StandardScaler()\n",
    "    scaler.fit(df_train[numerical])\n",
    "    df_train.loc[:, numerical] = scaler.transform(df_train[numerical])\n",
    "\n",
    "    dicts = df_train[categorical + numerical].to_dict(orient='records')\n",
    "\n",
    "    dv = DictVectorizer(sparse=False)\n",
    "    X_train = dv.fit_transform(dicts)\n",
    "\n",
    "    model = LogisticRegression(solver='liblinear', C=C, max_iter=1000)\n",
    "    model.fit(X_train, y_train)\n",
    "    \n",
    "    return dv, model, scaler"
   ]
  },
  {
   "cell_type": "code",
   "execution_count": 24,
   "id": "f7c7b0c4",
   "metadata": {},
   "outputs": [],
   "source": [
    "def predict_sc(dfx, dv, model, scaler):\n",
    "    df = dfx.copy()\n",
    "    #df.loc[:, numerical] = df[numerical].astype(float)\n",
    "    df.loc[:, numerical] = scaler.transform(df[numerical])\n",
    "    dicts = df[categorical + numerical].to_dict(orient='records')\n",
    "\n",
    "    X = dv.transform(dicts)\n",
    "    y_pred = model.predict_proba(X)[:, 1]\n",
    "\n",
    "    return y_pred"
   ]
  },
  {
   "cell_type": "code",
   "execution_count": 33,
   "id": "9d5c74a3",
   "metadata": {},
   "outputs": [],
   "source": [
    "thresholds = np.linspace(0, 1, 101)\n",
    "\n",
    "dv, model, scaler = train_sc(df_train, y_train)\n",
    "y_pred_sc = predict_sc(df_val, dv, model, scaler)\n",
    "\n",
    "precisions, recalls, f1_scores = [], [], []\n",
    "\n",
    "for th in thresholds:\n",
    "    y_pred_sc_bin = (y_pred_sc >= th).astype(int)\n",
    "\n",
    "    f1 = f1_score(y_val, y_pred_sc_bin)\n",
    "    auc = roc_auc_score(y_val, y_pred_sc)\n",
    "    precision, recall, _ = precision_recall_curve(y_val, y_pred_sc_bin)\n",
    "    #print(f\"Threshold: {th:.2f}, F1: {f1:.5f}, AUC: {auc:.5f}\")\n",
    "    #print(f\"Precision: {precision[1]:.5f}, Recall: {recall[1]:.5f}\")\n",
    "\n",
    "    precisions.append(precision[1])\n",
    "    recalls.append(recall[1])\n",
    "    f1_scores.append(f1)\n",
    "\n",
    "    #break\n"
   ]
  },
  {
   "cell_type": "code",
   "execution_count": 40,
   "id": "5e21fbff",
   "metadata": {},
   "outputs": [
    {
     "name": "stdout",
     "output_type": "stream",
     "text": [
      "Best threshold = 0.27, F1 = 0.640\n",
      "Precision = 0.531, Recall = 0.806, F1 = 0.640\n"
     ]
    },
    {
     "data": {
      "image/png": "[encoded data removed]",
      "text/plain": [
       "<Figure size 800x500 with 1 Axes>"
      ]
     },
     "metadata": {},
     "output_type": "display_data"
    }
   ],
   "source": [
    "# Find best F1 threshold\n",
    "best_idx = np.argmax(f1_scores)\n",
    "best_threshold = thresholds[best_idx]\n",
    "best_f1 = f1_scores[best_idx]\n",
    "\n",
    "print(f\"Best threshold = {best_threshold:.2f}, F1 = {best_f1:.3f}\")\n",
    "print(f\"Precision = {precisions[best_idx]:.3f}, Recall = {recalls[best_idx]:.3f}, F1 = {f1_scores[best_idx]:.3f}\")\n",
    "\n",
    "# Plot\n",
    "plt.figure(figsize=(8, 5))\n",
    "plt.plot(thresholds, precisions, label='Precision', linestyle='--')\n",
    "plt.plot(thresholds, recalls, label='Recall', linestyle='-.')\n",
    "plt.plot(thresholds, f1_scores, label='F1 Score', linewidth=2)\n",
    "\n",
    "plt.axvline(best_threshold, color='red', linestyle=':', label=f'Best F1 = {best_threshold:.2f}')\n",
    "plt.title('Precision, Recall, and F1 vs Threshold')\n",
    "plt.xlabel('Threshold')\n",
    "plt.ylabel('Score')\n",
    "plt.legend()\n",
    "plt.grid(True)\n",
    "plt.show()\n"
   ]
  },
  {
   "cell_type": "code",
   "execution_count": 38,
   "id": "9c6c3699",
   "metadata": {},
   "outputs": [
    {
     "name": "stdout",
     "output_type": "stream",
     "text": [
      "Precision and Recall intersect at threshold = 0.43, Precision = 0.617, Recall = 0.627, F1 = 0.622\n"
     ]
    }
   ],
   "source": [
    "# find the threshold where precision and recall intersect, and get f1 score\n",
    "for th in thresholds:\n",
    "    y_pred_sc_bin = (y_pred_sc >= th).astype(int)\n",
    "\n",
    "    precision, recall, _ = precision_recall_curve(y_val, y_pred_sc_bin)\n",
    "    if np.isclose(precision[1], recall[1], atol=0.01):\n",
    "        f1 = f1_score(y_val, y_pred_sc_bin)\n",
    "        print(f\"Precision and Recall intersect at threshold = {th:.2f}, Precision = {precision[1]:.3f}, Recall = {recall[1]:.3f}, F1 = {f1:.3f}\")\n",
    "        break\n"
   ]
  },
  {
   "cell_type": "markdown",
   "id": "79a65644",
   "metadata": {},
   "source": [
    "At intersection between precision and recall:\n",
    "* Threshold 0.43\n",
    "* Precision 0.617\n",
    "* Recall 0.627\n",
    "* F1 0.622\n",
    "\n",
    "\n",
    "At max F1 score:\n",
    "* Threshold 0.27\n",
    "* Precision 0.531\n",
    "* Recall 0.806\n",
    "* F1 0.64\n",
    "\n",
    "\n"
   ]
  },
  {
   "cell_type": "code",
   "execution_count": null,
   "id": "8f5a5b5a",
   "metadata": {},
   "outputs": [],
   "source": []
  },
  {
   "cell_type": "code",
   "execution_count": null,
   "id": "3ecd8751",
   "metadata": {},
   "outputs": [],
   "source": []
  }
 ],
 "metadata": {
  "kernelspec": {
   "display_name": "ml",
   "language": "python",
   "name": "python3"
  },
  "language_info": {
   "codemirror_mode": {
    "name": "ipython",
    "version": 3
   },
   "file_extension": ".py",
   "mimetype": "text/x-python",
   "name": "python",
   "nbconvert_exporter": "python",
   "pygments_lexer": "ipython3",
   "version": "3.12.9"
  }
 },
 "nbformat": 4,
 "nbformat_minor": 5
}
