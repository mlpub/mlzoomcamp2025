{
 "cells": [
  {
   "cell_type": "markdown",
   "id": "836630bc",
   "metadata": {},
   "source": [
    "05 homework"
   ]
  },
  {
   "cell_type": "code",
   "execution_count": null,
   "id": "20aaf924",
   "metadata": {},
   "outputs": [],
   "source": []
  }
 ],
 "metadata": {
  "language_info": {
   "name": "python"
  }
 },
 "nbformat": 4,
 "nbformat_minor": 5
}
