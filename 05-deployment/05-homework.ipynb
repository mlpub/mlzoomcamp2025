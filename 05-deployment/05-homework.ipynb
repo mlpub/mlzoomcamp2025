{
 "cells": [
  {
   "cell_type": "markdown",
   "id": "836630bc",
   "metadata": {},
   "source": [
    "05 homework"
   ]
  },
  {
   "cell_type": "markdown",
   "id": "703e88f3",
   "metadata": {},
   "source": [
    "### Question 1\n",
    "Install uv\n",
    "\n",
    "What's the version of uv you installed?\n",
    "\n",
    "Use --version to find out"
   ]
  },
  {
   "cell_type": "markdown",
   "id": "5426d48e",
   "metadata": {},
   "source": [
    "## install uv\n",
    "\n",
    "curl -LsSf https://astral.sh/uv/install.sh | sh"
   ]
  },
  {
   "cell_type": "markdown",
   "id": "85825f7b",
   "metadata": {},
   "source": [
    "```\n",
    "uv --version\n",
    "```"
   ]
  },
  {
   "cell_type": "markdown",
   "id": "b4fecd0c",
   "metadata": {},
   "source": [
    "Initialize an empty uv project\n",
    "\n",
    "You should create an empty folder for homework and do it there."
   ]
  },
  {
   "cell_type": "markdown",
   "id": "7207b4dd",
   "metadata": {},
   "source": [
    "* Create empty project\n",
    "```\n",
    "uv init <name> --python 3.12\n",
    "```\n",
    "\n",
    "Change to folder <name>\n",
    "```\n",
    "cd <name>\n",
    "```\n",
    "\n",
    "The .venv not yet created.\n",
    "Run sync to update the venv\n",
    "```\n",
    "uv sync\n",
    "```\n",
    "\n",
    "It will create .venv\n",
    "\n",
    "Add dependencies\n",
    "```\n",
    "uv add pandas matplotlib\n",
    "```\n",
    "\n",
    "Activate .venv\n",
    "```\n",
    "source .venv/bin/activate\n",
    "```\n",
    "\n",
    "\n",
    "\n",
    "\n",
    "\n",
    "\n",
    "\n",
    "* Edit pyproject.toml\n",
    "* add scikit-learn==1.6.1 in dependencies\n",
    "* uv sync\n",
    "\n",
    "\n",
    "\n"
   ]
  },
  {
   "cell_type": "markdown",
   "id": "eb22e9bd",
   "metadata": {},
   "source": [
    "## Question 2\n",
    "Use uv to install Scikit-Learn version 1.6.1\n",
    "\n",
    "What's the first hash for Scikit-Learn you get in the lock file?\n",
    "\n",
    "Include the entire string starting with sha256:, don't include quotes"
   ]
  },
  {
   "cell_type": "markdown",
   "id": "13648f4a",
   "metadata": {},
   "source": [
    "```\n",
    "[[package]]\n",
    "name = \"scikit-learn\"\n",
    "version = \"1.6.1\"\n",
    "source = { registry = \"https://pypi.org/simple\" }\n",
    "dependencies = [\n",
    "    { name = \"joblib\" },\n",
    "    { name = \"numpy\" },\n",
    "    { name = \"scipy\" },\n",
    "    { name = \"threadpoolctl\" },\n",
    "]\n",
    "sdist = { url = \"https://files.pythonhosted.org/packages/9e/a5/4ae3b3a0755f7b35a280ac90b28817d1f380318973cff14075ab41ef50d9/scikit_learn-1.6.1.tar.gz\", hash = \"sha256:b4fc2525eca2c69a59260f583c56a7557c6ccdf8deafdba6e060f94c1c59738e\", size = 7068312, upload-time = \"2025-01-10T08:07:55.348Z\" }\n",
    "```"
   ]
  },
  {
   "cell_type": "markdown",
   "id": "2fed937e",
   "metadata": {},
   "source": [
    "### Question 3\n",
    "Let's use the model!\n",
    "\n",
    "Write a script for loading the pipeline with pickle\n",
    "\n",
    "Score this record:\n",
    "```\n",
    "{\n",
    "    \"lead_source\": \"paid_ads\",\n",
    "    \"number_of_courses_viewed\": 2,\n",
    "    \"annual_income\": 79276.0\n",
    "}\n",
    "```\n",
    "\n",
    "What's the probability that this lead will convert?\n",
    "\n",
    "* 0.333\n",
    "* 0.533\n",
    "* 0.733\n",
    "* 0.933\n",
    "\n",
    "If you're getting errors when unpickling the files, check their checksum:\n",
    "\n",
    "```\n",
    "$ md5sum pipeline_v1.bin\n",
    "7d17d2e4dfbaf1e408e1a62e6e880d49 *pipeline_v1.bin\n",
    "```"
   ]
  },
  {
   "cell_type": "code",
   "execution_count": 1,
   "id": "bfc65500",
   "metadata": {},
   "outputs": [],
   "source": [
    "from sklearn.pipeline import make_pipeline\n",
    "from unittest import result\n",
    "from sklearn.feature_extraction import DictVectorizer\n",
    "from sklearn.linear_model import LogisticRegression\n",
    "import joblib\n",
    "import pickle"
   ]
  },
  {
   "cell_type": "code",
   "execution_count": null,
   "id": "6408a083",
   "metadata": {},
   "outputs": [
    {
     "name": "stdout",
     "output_type": "stream",
     "text": [
      "[0.46639273 0.53360727]\n"
     ]
    }
   ],
   "source": [
    "\n",
    "\n",
    "# load pipelined model from file\n",
    "    \n",
    "model = joblib.load(\"hw5/pipeline_v1.bin\")\n",
    "\n",
    "with open('hw5/pipeline_v1.bin', 'rb') as f_in:\n",
    "    pipeline = pickle.load(f_in)\n",
    "\n",
    "\n",
    "input_data = [\n",
    "    {\n",
    "    \"lead_source\": \"paid_ads\",\n",
    "    \"number_of_courses_viewed\": 2,\n",
    "    \"annual_income\": 79276.0\n",
    "    }\n",
    "]\n",
    "\n",
    "result = pipeline.predict_proba(input_data)[0]\n",
    "\n",
    "print(result)"
   ]
  },
  {
   "cell_type": "code",
   "execution_count": null,
   "id": "03e2e8e2",
   "metadata": {},
   "outputs": [],
   "source": []
  },
  {
   "cell_type": "markdown",
   "id": "ca518d3a",
   "metadata": {},
   "source": [
    "### Question 4\n",
    "Now let's serve this model as a web service\n",
    "\n",
    "Install FastAPI\n",
    "\n",
    "Write FastAPI code for serving the model\n",
    "\n",
    "Now score this client using requests:\n",
    "\n",
    "```\n",
    "url = \"YOUR_URL\"\n",
    "client = {\n",
    "    \"lead_source\": \"organic_search\",\n",
    "    \"number_of_courses_viewed\": 4,\n",
    "    \"annual_income\": 80304.0\n",
    "}\n",
    "requests.post(url, json=client).json()\n",
    "```\n",
    "\n",
    "What's the probability that this client will get a subscription?\n",
    "* 0.334\n",
    "* 0.534\n",
    "* 0.734\n",
    "* 0.934"
   ]
  },
  {
   "cell_type": "code",
   "execution_count": null,
   "id": "f6a7209b",
   "metadata": {},
   "outputs": [],
   "source": [
    "# create fastapi app\n",
    "\n",
    "import pickle\n",
    "from typing import Literal\n",
    "from pydantic import BaseModel, Field\n",
    "from fastapi import FastAPI\n",
    "import uvicorn\n",
    "\n",
    "\n",
    "class PredictResponse(BaseModel):\n",
    "    churn_probability: float\n",
    "    churn: bool\n",
    "\n",
    "\n",
    "app = FastAPI(title=\"Q4\")\n",
    "\n",
    "with open('hw5/pipeline_v1.bin', 'rb') as f_in:\n",
    "    pipeline = pickle.load(f_in)\n",
    "\n",
    "\n",
    "def predict_single(input_data: dict) -> float:\n",
    "    result = pipeline.predict_proba(input_data)[0, 1]\n",
    "    return float(result)\n",
    "\n",
    "\n",
    "@app.post(\"/predict\")\n",
    "def predict(input_data: dict) -> PredictResponse:\n",
    "    prob = predict_single(input_data)\n",
    "\n",
    "    return PredictResponse(\n",
    "        churn_probability=prob,\n",
    "        churn=prob >= 0.5\n",
    "    )\n",
    "\n",
    "\n",
    "if __name__ == \"__main__\":\n",
    "    uvicorn.run(app, host=\"0.0.0.0\", port=9696)\n",
    "\n",
    "\n",
    "\n"
   ]
  },
  {
   "cell_type": "code",
   "execution_count": null,
   "id": "9a8dad77",
   "metadata": {},
   "outputs": [
    {
     "data": {
      "text/plain": [
       "{'churn_probability': 0.5340417283801275, 'churn': True}"
      ]
     },
     "execution_count": 14,
     "metadata": {},
     "output_type": "execute_result"
    }
   ],
   "source": [
    "# request to the deployed model\n",
    "import requests\n",
    "\n",
    "url = \"http://localhost:9696/predict\"\n",
    "client = {\n",
    "    \"lead_source\": \"organic_search\",\n",
    "    \"number_of_courses_viewed\": 4,\n",
    "    \"annual_income\": 80304.0\n",
    "}\n",
    "requests.post(url, json=client).json()"
   ]
  },
  {
   "cell_type": "code",
   "execution_count": null,
   "id": "5f3ab028",
   "metadata": {},
   "outputs": [],
   "source": []
  },
  {
   "cell_type": "markdown",
   "id": "9c4e90a6",
   "metadata": {},
   "source": [
    "Docker\n",
    "Install Docker. We will use it for the next two questions.\n",
    "\n",
    "For these questions, we prepared a base image: agrigorev/zoomcamp-model:2025. You'll need to use it (see Question 5 for an example).\n",
    "\n",
    "This image is based on 3.13.5-slim-bookworm and has a pipeline with logistic regression (a different one) as well a dictionary vectorizer inside.\n",
    "\n",
    "This is how the Dockerfile for this image looks like:\n",
    "\n",
    "FROM python:3.13.5-slim-bookworm\n",
    "WORKDIR /code\n",
    "COPY pipeline_v2.bin .\n",
    "We already built it and then pushed it to agrigorev/zoomcamp-model:2025.\n",
    "\n",
    "Note: You don't need to build this docker image, it's just for your reference."
   ]
  },
  {
   "cell_type": "markdown",
   "id": "d4501e77",
   "metadata": {},
   "source": [
    "### Question 5\n",
    "\n",
    "Download the base image agrigorev/zoomcamp-model:2025. You can easily make it by using docker pull command.\n",
    "\n",
    "So what's the size of this base image?\n",
    "* 45 MB\n",
    "* 121 MB\n",
    "* 245 MB\n",
    "* 330 MB\n",
    "\n",
    "You can get this information when running docker images - it'll be in the \"SIZE\" column."
   ]
  },
  {
   "cell_type": "markdown",
   "id": "3066c7b3",
   "metadata": {},
   "source": [
    "```\n",
    "C:\\>docker images\n",
    "REPOSITORY                     TAG               IMAGE ID       CREATED       SIZE\n",
    "agrigorev/zoomcamp-model       2025              4a9ecc576ae9   2 days ago    121MB\n",
    "```"
   ]
  },
  {
   "cell_type": "code",
   "execution_count": null,
   "id": "780bf24e",
   "metadata": {},
   "outputs": [],
   "source": []
  },
  {
   "cell_type": "markdown",
   "id": "3c2eae3e",
   "metadata": {},
   "source": [
    "Dockerfile\n",
    "\n",
    "Now create your own Dockerfile based on the image we prepared.\n",
    "\n",
    "It should start like that:\n",
    "\n",
    "FROM agrigorev/zoomcamp-model:2025\n",
    "# add your stuff here\n",
    "Now complete it:\n",
    "\n",
    "Install all the dependencies from pyproject.toml\n",
    "Copy your FastAPI script\n",
    "Run it with uvicorn\n",
    "After that, you can build your docker image."
   ]
  },
  {
   "cell_type": "markdown",
   "id": "58c3d8b9",
   "metadata": {},
   "source": [
    "### Question 6\n",
    "Let's run your docker container!\n",
    "\n",
    "After running it, score this client once again:\n",
    "\n",
    "```\n",
    "url = \"YOUR_URL\"\n",
    "client = {\n",
    "    \"lead_source\": \"organic_search\",\n",
    "    \"number_of_courses_viewed\": 4,\n",
    "    \"annual_income\": 80304.0\n",
    "}\n",
    "requests.post(url, json=client).json()\n",
    "```\n",
    "\n",
    "What's the probability that this lead will convert?\n",
    "* 0.39\n",
    "* 0.59\n",
    "* 0.79\n",
    "* 0.99\n",
    "\n",
    "Submit the results\n",
    "\n",
    "Submit your results here: https://courses.datatalks.club/ml-zoomcamp-2025/homework/hw05\n",
    "\n",
    "If your answer doesn't match options exactly, select the closest one\n",
    "Publishing to Docker hub\n",
    "This is just for reference, this is how we published an image to Docker hub.\n",
    "\n",
    "Dockerfile_base:\n",
    "\n",
    "FROM python:3.13.5-slim-bookworm\n",
    "WORKDIR /code\n",
    "COPY pipeline_v2.bin .\n",
    "Publishing:\n",
    "\n",
    "docker build -t mlzoomcamp2025_hw5 -f Dockerfile_base .\n",
    "docker tag mlzoomcamp2025_hw5:latest agrigorev/zoomcamp-model:2025\n",
    "docker push agrigorev/zoomcamp-model:2025"
   ]
  },
  {
   "cell_type": "code",
   "execution_count": null,
   "id": "fc057592",
   "metadata": {},
   "outputs": [],
   "source": [
    "# create dockerfile\n",
    "# build image: docker build -t myapp .\n"
   ]
  },
  {
   "cell_type": "code",
   "execution_count": 8,
   "id": "db43a6dd",
   "metadata": {},
   "outputs": [
    {
     "data": {
      "text/plain": [
       "{'churn_probability': 0.9933071490756734, 'churn': True}"
      ]
     },
     "execution_count": 8,
     "metadata": {},
     "output_type": "execute_result"
    }
   ],
   "source": [
    "import requests\n",
    "\n",
    "url = \"http://localhost:9696/predict\"\n",
    "client = {\n",
    "    \"lead_source\": \"organic_search\",\n",
    "    \"number_of_courses_viewed\": 4,\n",
    "    \"annual_income\": 80304.0\n",
    "}\n",
    "requests.post(url, json=client).json()"
   ]
  },
  {
   "cell_type": "code",
   "execution_count": null,
   "id": "9975e667",
   "metadata": {},
   "outputs": [],
   "source": []
  }
 ],
 "metadata": {
  "kernelspec": {
   "display_name": "ml2",
   "language": "python",
   "name": "python3"
  },
  "language_info": {
   "codemirror_mode": {
    "name": "ipython",
    "version": 3
   },
   "file_extension": ".py",
   "mimetype": "text/x-python",
   "name": "python",
   "nbconvert_exporter": "python",
   "pygments_lexer": "ipython3",
   "version": "3.10.12"
  }
 },
 "nbformat": 4,
 "nbformat_minor": 5
}
