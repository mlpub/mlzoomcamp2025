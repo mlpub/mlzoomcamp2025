{
 "cells": [
  {
   "cell_type": "markdown",
   "id": "41774972",
   "metadata": {},
   "source": [
    "# Basic Fastapi usage"
   ]
  },
  {
   "cell_type": "markdown",
   "id": "0236f32f",
   "metadata": {},
   "source": [
    "Before call request api, run Fastapi application first, test-fastapi.py\n",
    "```\n",
    "uv run test-fastapi.py\n",
    "```"
   ]
  },
  {
   "cell_type": "code",
   "execution_count": null,
   "id": "b71eb230",
   "metadata": {},
   "outputs": [
    {
     "name": "stdout",
     "output_type": "stream",
     "text": [
      "\"PONG\"\n"
     ]
    }
   ],
   "source": [
    "import requests \n",
    "\n",
    "# call get /ping endpoint\n",
    "response = requests.get(\"http://localhost:9696/ping\")\n",
    "print(response.text)\n"
   ]
  },
  {
   "cell_type": "code",
   "execution_count": 12,
   "id": "8305e227",
   "metadata": {},
   "outputs": [
    {
     "name": "stdout",
     "output_type": "stream",
     "text": [
      "{\"greeting\":\"Hello, world!\"}\n"
     ]
    }
   ],
   "source": [
    "# call post /post-ping endpoint\n",
    "data = {\"name\": \"world\"}\n",
    "response = requests.post(\"http://localhost:9696/post-ping\", json=data)\n",
    "print(response.text)\n"
   ]
  },
  {
   "cell_type": "code",
   "execution_count": null,
   "id": "434c3fbb",
   "metadata": {},
   "outputs": [],
   "source": []
  },
  {
   "cell_type": "code",
   "execution_count": null,
   "id": "15434f3b",
   "metadata": {},
   "outputs": [],
   "source": []
  }
 ],
 "metadata": {
  "kernelspec": {
   "display_name": "ml2",
   "language": "python",
   "name": "python3"
  },
  "language_info": {
   "codemirror_mode": {
    "name": "ipython",
    "version": 3
   },
   "file_extension": ".py",
   "mimetype": "text/x-python",
   "name": "python",
   "nbconvert_exporter": "python",
   "pygments_lexer": "ipython3",
   "version": "3.10.12"
  }
 },
 "nbformat": 4,
 "nbformat_minor": 5
}
