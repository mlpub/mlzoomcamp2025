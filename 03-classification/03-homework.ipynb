{
 "cells": [
  {
   "cell_type": "markdown",
   "id": "fad8ba3f",
   "metadata": {},
   "source": [
    "# 03-homework"
   ]
  },
  {
   "cell_type": "code",
   "execution_count": null,
   "id": "2fc1501e",
   "metadata": {},
   "outputs": [],
   "source": []
  }
 ],
 "metadata": {
  "language_info": {
   "name": "python"
  }
 },
 "nbformat": 4,
 "nbformat_minor": 5
}
