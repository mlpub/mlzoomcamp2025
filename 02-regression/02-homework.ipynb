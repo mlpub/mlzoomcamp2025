{
 "cells": [
  {
   "cell_type": "markdown",
   "id": "18f8169d",
   "metadata": {},
   "source": [
    "# 02-homework"
   ]
  },
  {
   "cell_type": "code",
   "execution_count": 30,
   "id": "b342248b",
   "metadata": {},
   "outputs": [],
   "source": [
    "import numpy as np\n",
    "import pandas as pd\n",
    "import matplotlib.pyplot as plt\n",
    "import seaborn as sns"
   ]
  },
  {
   "cell_type": "code",
   "execution_count": 31,
   "id": "6175f379",
   "metadata": {},
   "outputs": [],
   "source": [
    "data_url = \"https://raw.githubusercontent.com/alexeygrigorev/datasets/master/car_fuel_efficiency.csv\"\n",
    "\n",
    "# open dataset\n",
    "df = pd.read_csv(data_url)"
   ]
  },
  {
   "cell_type": "markdown",
   "id": "6eb517c1",
   "metadata": {},
   "source": [
    "The goal of this homework is to create a regression model for predicting the car fuel efficiency (column 'fuel_efficiency_mpg').\n",
    "\n",
    "Preparing the dataset\n",
    "Use only the following columns:\n",
    "\n",
    "'engine_displacement',\n",
    "'horsepower',\n",
    "'vehicle_weight',\n",
    "'model_year',\n",
    "'fuel_efficiency_mpg'\n",
    "EDA\n",
    "Look at the fuel_efficiency_mpg variable. Does it have a long tail?"
   ]
  },
  {
   "cell_type": "code",
   "execution_count": 32,
   "id": "e30dafe9",
   "metadata": {},
   "outputs": [],
   "source": [
    "df_data = df[['engine_displacement',\n",
    "               'horsepower',\n",
    "               'vehicle_weight',\n",
    "               'model_year',\n",
    "               'fuel_efficiency_mpg']]"
   ]
  },
  {
   "cell_type": "code",
   "execution_count": 33,
   "id": "553549d8",
   "metadata": {},
   "outputs": [
    {
     "data": {
      "application/vnd.microsoft.datawrangler.viewer.v0+json": {
       "columns": [
        {
         "name": "index",
         "rawType": "int64",
         "type": "integer"
        },
        {
         "name": "engine_displacement",
         "rawType": "int64",
         "type": "integer"
        },
        {
         "name": "horsepower",
         "rawType": "float64",
         "type": "float"
        },
        {
         "name": "vehicle_weight",
         "rawType": "float64",
         "type": "float"
        },
        {
         "name": "model_year",
         "rawType": "int64",
         "type": "integer"
        },
        {
         "name": "fuel_efficiency_mpg",
         "rawType": "float64",
         "type": "float"
        }
       ],
       "ref": "3c59f8e7-bedd-40c6-beab-f9ddfcc6f93d",
       "rows": [
        [
         "0",
         "170",
         "159.0",
         "3413.433758606219",
         "2003",
         "13.231728906241411"
        ],
        [
         "1",
         "130",
         "97.0",
         "3149.664934220036",
         "2007",
         "13.688217435463793"
        ],
        [
         "2",
         "170",
         "78.0",
         "3079.03899736884",
         "2018",
         "14.246340998160866"
        ],
        [
         "3",
         "220",
         null,
         "2542.392401828378",
         "2009",
         "16.91273559598635"
        ],
        [
         "4",
         "210",
         "140.0",
         "3460.870989989018",
         "2009",
         "12.488369121964562"
        ]
       ],
       "shape": {
        "columns": 5,
        "rows": 5
       }
      },
      "text/html": [
       "<div>\n",
       "<style scoped>\n",
       "    .dataframe tbody tr th:only-of-type {\n",
       "        vertical-align: middle;\n",
       "    }\n",
       "\n",
       "    .dataframe tbody tr th {\n",
       "        vertical-align: top;\n",
       "    }\n",
       "\n",
       "    .dataframe thead th {\n",
       "        text-align: right;\n",
       "    }\n",
       "</style>\n",
       "<table border=\"1\" class=\"dataframe\">\n",
       "  <thead>\n",
       "    <tr style=\"text-align: right;\">\n",
       "      <th></th>\n",
       "      <th>engine_displacement</th>\n",
       "      <th>horsepower</th>\n",
       "      <th>vehicle_weight</th>\n",
       "      <th>model_year</th>\n",
       "      <th>fuel_efficiency_mpg</th>\n",
       "    </tr>\n",
       "  </thead>\n",
       "  <tbody>\n",
       "    <tr>\n",
       "      <th>0</th>\n",
       "      <td>170</td>\n",
       "      <td>159.0</td>\n",
       "      <td>3413.433759</td>\n",
       "      <td>2003</td>\n",
       "      <td>13.231729</td>\n",
       "    </tr>\n",
       "    <tr>\n",
       "      <th>1</th>\n",
       "      <td>130</td>\n",
       "      <td>97.0</td>\n",
       "      <td>3149.664934</td>\n",
       "      <td>2007</td>\n",
       "      <td>13.688217</td>\n",
       "    </tr>\n",
       "    <tr>\n",
       "      <th>2</th>\n",
       "      <td>170</td>\n",
       "      <td>78.0</td>\n",
       "      <td>3079.038997</td>\n",
       "      <td>2018</td>\n",
       "      <td>14.246341</td>\n",
       "    </tr>\n",
       "    <tr>\n",
       "      <th>3</th>\n",
       "      <td>220</td>\n",
       "      <td>NaN</td>\n",
       "      <td>2542.392402</td>\n",
       "      <td>2009</td>\n",
       "      <td>16.912736</td>\n",
       "    </tr>\n",
       "    <tr>\n",
       "      <th>4</th>\n",
       "      <td>210</td>\n",
       "      <td>140.0</td>\n",
       "      <td>3460.870990</td>\n",
       "      <td>2009</td>\n",
       "      <td>12.488369</td>\n",
       "    </tr>\n",
       "  </tbody>\n",
       "</table>\n",
       "</div>"
      ],
      "text/plain": [
       "   engine_displacement  horsepower  vehicle_weight  model_year  \\\n",
       "0                  170       159.0     3413.433759        2003   \n",
       "1                  130        97.0     3149.664934        2007   \n",
       "2                  170        78.0     3079.038997        2018   \n",
       "3                  220         NaN     2542.392402        2009   \n",
       "4                  210       140.0     3460.870990        2009   \n",
       "\n",
       "   fuel_efficiency_mpg  \n",
       "0            13.231729  \n",
       "1            13.688217  \n",
       "2            14.246341  \n",
       "3            16.912736  \n",
       "4            12.488369  "
      ]
     },
     "execution_count": 33,
     "metadata": {},
     "output_type": "execute_result"
    }
   ],
   "source": [
    "df_data.head()"
   ]
  },
  {
   "cell_type": "code",
   "execution_count": 34,
   "id": "698c6888",
   "metadata": {},
   "outputs": [
    {
     "data": {
      "image/png": "[encoded data removed]",
      "text/plain": [
       "<Figure size 1200x800 with 6 Axes>"
      ]
     },
     "metadata": {},
     "output_type": "display_data"
    }
   ],
   "source": [
    "df_data.hist(bins=50, figsize=(12, 8), layout=(2, 3))\n",
    "plt.tight_layout()\n",
    "plt.show()\n",
    "\n"
   ]
  },
  {
   "cell_type": "markdown",
   "id": "cc31ed67",
   "metadata": {},
   "source": [
    "The histogram is not tail, it's like symetrical bell curve"
   ]
  },
  {
   "cell_type": "markdown",
   "id": "23972e51",
   "metadata": {},
   "source": [
    "# Question 1\n",
    "There's one column with missing values. What is it?\n",
    "\n",
    "'engine_displacement'\n",
    "'horsepower'\n",
    "'vehicle_weight'\n",
    "'model_year'"
   ]
  },
  {
   "cell_type": "code",
   "execution_count": 35,
   "id": "844f86f8",
   "metadata": {},
   "outputs": [
    {
     "data": {
      "application/vnd.microsoft.datawrangler.viewer.v0+json": {
       "columns": [
        {
         "name": "index",
         "rawType": "object",
         "type": "string"
        },
        {
         "name": "0",
         "rawType": "int64",
         "type": "integer"
        }
       ],
       "ref": "2d9cd65d-320c-4ca3-97af-d2f3e10f52df",
       "rows": [
        [
         "engine_displacement",
         "0"
        ],
        [
         "horsepower",
         "708"
        ],
        [
         "vehicle_weight",
         "0"
        ],
        [
         "model_year",
         "0"
        ],
        [
         "fuel_efficiency_mpg",
         "0"
        ]
       ],
       "shape": {
        "columns": 1,
        "rows": 5
       }
      },
      "text/plain": [
       "engine_displacement      0\n",
       "horsepower             708\n",
       "vehicle_weight           0\n",
       "model_year               0\n",
       "fuel_efficiency_mpg      0\n",
       "dtype: int64"
      ]
     },
     "execution_count": 35,
     "metadata": {},
     "output_type": "execute_result"
    }
   ],
   "source": [
    "df_data.isna().sum()"
   ]
  },
  {
   "cell_type": "markdown",
   "id": "95e80b8d",
   "metadata": {},
   "source": [
    "Column horsepower have null value"
   ]
  },
  {
   "cell_type": "markdown",
   "id": "6282b248",
   "metadata": {},
   "source": [
    "# Question 2\n",
    "What's the median (50% percentile) for variable 'horsepower'?\n",
    "\n",
    "49\n",
    "99\n",
    "149\n",
    "199\n",
    "Prepare and split the dataset\n",
    "Shuffle the dataset (the filtered one you created above), use seed 42.\n",
    "Split your data in train/val/test sets, with 60%/20%/20% distribution.\n",
    "Use the same code as in the lectures"
   ]
  },
  {
   "cell_type": "code",
   "execution_count": 36,
   "id": "6ee91c70",
   "metadata": {},
   "outputs": [
    {
     "data": {
      "text/plain": [
       "149.0"
      ]
     },
     "execution_count": 36,
     "metadata": {},
     "output_type": "execute_result"
    }
   ],
   "source": [
    "horsepower_median = df_data['horsepower'].median()\n",
    "\n",
    "horsepower_median"
   ]
  },
  {
   "cell_type": "markdown",
   "id": "923c63ce",
   "metadata": {},
   "source": [
    "# Prepare and split the dataset\n",
    "Shuffle the dataset (the filtered one you created above), use seed 42.\n",
    "\n",
    "Split your data in train/val/test sets, with 60%/20%/20% distribution.\n",
    "\n",
    "Use the same code as in the lectures"
   ]
  },
  {
   "cell_type": "code",
   "execution_count": 37,
   "id": "c8c494fb",
   "metadata": {},
   "outputs": [
    {
     "name": "stdout",
     "output_type": "stream",
     "text": [
      "Number of rows: 9704\n"
     ]
    }
   ],
   "source": [
    "n = len(df_data)\n",
    "\n",
    "print(f\"Number of rows: {n}\")"
   ]
  },
  {
   "cell_type": "code",
   "execution_count": 38,
   "id": "ca27808f",
   "metadata": {},
   "outputs": [
    {
     "name": "stdout",
     "output_type": "stream",
     "text": [
      "[ 246 8125 1927 ... 6637 2575 7336]\n"
     ]
    }
   ],
   "source": [
    "# create an array with indices from 0 to n-1\n",
    "idx = np.arange(n)\n",
    "\n",
    "# set seed 42 and shuffle idx\n",
    "np.random.seed(2)\n",
    "np.random.shuffle(idx)\n",
    "\n",
    "print(idx)"
   ]
  },
  {
   "cell_type": "code",
   "execution_count": 39,
   "id": "5ae5b79d",
   "metadata": {},
   "outputs": [
    {
     "name": "stdout",
     "output_type": "stream",
     "text": [
      "5824 1940 1940\n"
     ]
    }
   ],
   "source": [
    "# split train, val, test = 60%, 20%, 20%\n",
    "n_val = int(n * 0.2)\n",
    "n_test = int(n * 0.2)\n",
    "n_train = n - n_val - n_test\n",
    "\n",
    "print(n_train, n_val, n_test)"
   ]
  },
  {
   "cell_type": "code",
   "execution_count": 40,
   "id": "aaf8dbb1",
   "metadata": {},
   "outputs": [],
   "source": [
    "# create train, val, test dataframes\n",
    "# train = 0 - n_train\n",
    "df_train = df_data.iloc[idx[:n_train]]\n",
    "# val = n_train - n_train+n_val\n",
    "df_val = df_data.iloc[idx[n_train:n_train+n_val]]\n",
    "# test = n_train+n_val - n\n",
    "df_test = df_data.iloc[idx[n_train+n_val:]]\n",
    "\n",
    "# reset index\n",
    "df_train = df_train.reset_index(drop=True)\n",
    "df_val = df_val.reset_index(drop=True)\n",
    "df_test = df_test.reset_index(drop=True)"
   ]
  },
  {
   "cell_type": "code",
   "execution_count": 41,
   "id": "2ffe4695",
   "metadata": {},
   "outputs": [
    {
     "data": {
      "application/vnd.microsoft.datawrangler.viewer.v0+json": {
       "columns": [
        {
         "name": "index",
         "rawType": "int64",
         "type": "integer"
        },
        {
         "name": "engine_displacement",
         "rawType": "int64",
         "type": "integer"
        },
        {
         "name": "horsepower",
         "rawType": "float64",
         "type": "float"
        },
        {
         "name": "vehicle_weight",
         "rawType": "float64",
         "type": "float"
        },
        {
         "name": "model_year",
         "rawType": "int64",
         "type": "integer"
        },
        {
         "name": "fuel_efficiency_mpg",
         "rawType": "float64",
         "type": "float"
        }
       ],
       "ref": "d4b68576-27c3-432f-b75a-12766a0b846f",
       "rows": [
        [
         "0",
         "170",
         "164.0",
         "2990.040916716882",
         "2019",
         "15.963018865529914"
        ],
        [
         "1",
         "170",
         null,
         "2729.6237411896427",
         "2012",
         "15.93196432346472"
        ],
        [
         "2",
         "200",
         "142.0",
         "3126.513374592941",
         "2019",
         "14.284901147666384"
        ],
        [
         "3",
         "200",
         "148.0",
         "3136.4779005762334",
         "2003",
         "14.865209567336928"
        ],
        [
         "4",
         "230",
         "141.0",
         "3384.6816134892097",
         "2006",
         "12.428821887951145"
        ]
       ],
       "shape": {
        "columns": 5,
        "rows": 5
       }
      },
      "text/html": [
       "<div>\n",
       "<style scoped>\n",
       "    .dataframe tbody tr th:only-of-type {\n",
       "        vertical-align: middle;\n",
       "    }\n",
       "\n",
       "    .dataframe tbody tr th {\n",
       "        vertical-align: top;\n",
       "    }\n",
       "\n",
       "    .dataframe thead th {\n",
       "        text-align: right;\n",
       "    }\n",
       "</style>\n",
       "<table border=\"1\" class=\"dataframe\">\n",
       "  <thead>\n",
       "    <tr style=\"text-align: right;\">\n",
       "      <th></th>\n",
       "      <th>engine_displacement</th>\n",
       "      <th>horsepower</th>\n",
       "      <th>vehicle_weight</th>\n",
       "      <th>model_year</th>\n",
       "      <th>fuel_efficiency_mpg</th>\n",
       "    </tr>\n",
       "  </thead>\n",
       "  <tbody>\n",
       "    <tr>\n",
       "      <th>0</th>\n",
       "      <td>170</td>\n",
       "      <td>164.0</td>\n",
       "      <td>2990.040917</td>\n",
       "      <td>2019</td>\n",
       "      <td>15.963019</td>\n",
       "    </tr>\n",
       "    <tr>\n",
       "      <th>1</th>\n",
       "      <td>170</td>\n",
       "      <td>NaN</td>\n",
       "      <td>2729.623741</td>\n",
       "      <td>2012</td>\n",
       "      <td>15.931964</td>\n",
       "    </tr>\n",
       "    <tr>\n",
       "      <th>2</th>\n",
       "      <td>200</td>\n",
       "      <td>142.0</td>\n",
       "      <td>3126.513375</td>\n",
       "      <td>2019</td>\n",
       "      <td>14.284901</td>\n",
       "    </tr>\n",
       "    <tr>\n",
       "      <th>3</th>\n",
       "      <td>200</td>\n",
       "      <td>148.0</td>\n",
       "      <td>3136.477901</td>\n",
       "      <td>2003</td>\n",
       "      <td>14.865210</td>\n",
       "    </tr>\n",
       "    <tr>\n",
       "      <th>4</th>\n",
       "      <td>230</td>\n",
       "      <td>141.0</td>\n",
       "      <td>3384.681613</td>\n",
       "      <td>2006</td>\n",
       "      <td>12.428822</td>\n",
       "    </tr>\n",
       "  </tbody>\n",
       "</table>\n",
       "</div>"
      ],
      "text/plain": [
       "   engine_displacement  horsepower  vehicle_weight  model_year  \\\n",
       "0                  170       164.0     2990.040917        2019   \n",
       "1                  170         NaN     2729.623741        2012   \n",
       "2                  200       142.0     3126.513375        2019   \n",
       "3                  200       148.0     3136.477901        2003   \n",
       "4                  230       141.0     3384.681613        2006   \n",
       "\n",
       "   fuel_efficiency_mpg  \n",
       "0            15.963019  \n",
       "1            15.931964  \n",
       "2            14.284901  \n",
       "3            14.865210  \n",
       "4            12.428822  "
      ]
     },
     "execution_count": 41,
     "metadata": {},
     "output_type": "execute_result"
    }
   ],
   "source": [
    "# show sample of train data\n",
    "df_train.head()"
   ]
  },
  {
   "cell_type": "code",
   "execution_count": 42,
   "id": "2c474597",
   "metadata": {},
   "outputs": [
    {
     "data": {
      "application/vnd.microsoft.datawrangler.viewer.v0+json": {
       "columns": [
        {
         "name": "index",
         "rawType": "int64",
         "type": "integer"
        },
        {
         "name": "engine_displacement",
         "rawType": "int64",
         "type": "integer"
        },
        {
         "name": "horsepower",
         "rawType": "float64",
         "type": "float"
        },
        {
         "name": "vehicle_weight",
         "rawType": "float64",
         "type": "float"
        },
        {
         "name": "model_year",
         "rawType": "int64",
         "type": "integer"
        },
        {
         "name": "fuel_efficiency_mpg",
         "rawType": "float64",
         "type": "float"
        }
       ],
       "ref": "3bacb9a6-5d28-4999-9cea-b5534ebd71c7",
       "rows": [
        [
         "0",
         "260",
         "138.0",
         "3843.15621200308",
         "2019",
         "10.23832756018499"
        ],
        [
         "1",
         "210",
         "130.0",
         "2643.471845145306",
         "2022",
         "16.64156993664066"
        ],
        [
         "2",
         "210",
         "143.0",
         "3329.858077710184",
         "2014",
         "12.864170613264363"
        ],
        [
         "3",
         "170",
         "191.0",
         "3749.611121841896",
         "2005",
         "12.258436013070083"
        ],
        [
         "4",
         "140",
         "164.0",
         "2981.107371272218",
         "2013",
         "15.101802347705972"
        ]
       ],
       "shape": {
        "columns": 5,
        "rows": 5
       }
      },
      "text/html": [
       "<div>\n",
       "<style scoped>\n",
       "    .dataframe tbody tr th:only-of-type {\n",
       "        vertical-align: middle;\n",
       "    }\n",
       "\n",
       "    .dataframe tbody tr th {\n",
       "        vertical-align: top;\n",
       "    }\n",
       "\n",
       "    .dataframe thead th {\n",
       "        text-align: right;\n",
       "    }\n",
       "</style>\n",
       "<table border=\"1\" class=\"dataframe\">\n",
       "  <thead>\n",
       "    <tr style=\"text-align: right;\">\n",
       "      <th></th>\n",
       "      <th>engine_displacement</th>\n",
       "      <th>horsepower</th>\n",
       "      <th>vehicle_weight</th>\n",
       "      <th>model_year</th>\n",
       "      <th>fuel_efficiency_mpg</th>\n",
       "    </tr>\n",
       "  </thead>\n",
       "  <tbody>\n",
       "    <tr>\n",
       "      <th>0</th>\n",
       "      <td>260</td>\n",
       "      <td>138.0</td>\n",
       "      <td>3843.156212</td>\n",
       "      <td>2019</td>\n",
       "      <td>10.238328</td>\n",
       "    </tr>\n",
       "    <tr>\n",
       "      <th>1</th>\n",
       "      <td>210</td>\n",
       "      <td>130.0</td>\n",
       "      <td>2643.471845</td>\n",
       "      <td>2022</td>\n",
       "      <td>16.641570</td>\n",
       "    </tr>\n",
       "    <tr>\n",
       "      <th>2</th>\n",
       "      <td>210</td>\n",
       "      <td>143.0</td>\n",
       "      <td>3329.858078</td>\n",
       "      <td>2014</td>\n",
       "      <td>12.864171</td>\n",
       "    </tr>\n",
       "    <tr>\n",
       "      <th>3</th>\n",
       "      <td>170</td>\n",
       "      <td>191.0</td>\n",
       "      <td>3749.611122</td>\n",
       "      <td>2005</td>\n",
       "      <td>12.258436</td>\n",
       "    </tr>\n",
       "    <tr>\n",
       "      <th>4</th>\n",
       "      <td>140</td>\n",
       "      <td>164.0</td>\n",
       "      <td>2981.107371</td>\n",
       "      <td>2013</td>\n",
       "      <td>15.101802</td>\n",
       "    </tr>\n",
       "  </tbody>\n",
       "</table>\n",
       "</div>"
      ],
      "text/plain": [
       "   engine_displacement  horsepower  vehicle_weight  model_year  \\\n",
       "0                  260       138.0     3843.156212        2019   \n",
       "1                  210       130.0     2643.471845        2022   \n",
       "2                  210       143.0     3329.858078        2014   \n",
       "3                  170       191.0     3749.611122        2005   \n",
       "4                  140       164.0     2981.107371        2013   \n",
       "\n",
       "   fuel_efficiency_mpg  \n",
       "0            10.238328  \n",
       "1            16.641570  \n",
       "2            12.864171  \n",
       "3            12.258436  \n",
       "4            15.101802  "
      ]
     },
     "execution_count": 42,
     "metadata": {},
     "output_type": "execute_result"
    }
   ],
   "source": [
    "# show sample of val data\n",
    "df_val.head()"
   ]
  },
  {
   "cell_type": "code",
   "execution_count": 43,
   "id": "a94679b6",
   "metadata": {},
   "outputs": [
    {
     "data": {
      "application/vnd.microsoft.datawrangler.viewer.v0+json": {
       "columns": [
        {
         "name": "index",
         "rawType": "int64",
         "type": "integer"
        },
        {
         "name": "engine_displacement",
         "rawType": "int64",
         "type": "integer"
        },
        {
         "name": "horsepower",
         "rawType": "float64",
         "type": "float"
        },
        {
         "name": "vehicle_weight",
         "rawType": "float64",
         "type": "float"
        },
        {
         "name": "model_year",
         "rawType": "int64",
         "type": "integer"
        },
        {
         "name": "fuel_efficiency_mpg",
         "rawType": "float64",
         "type": "float"
        }
       ],
       "ref": "aff57136-1ee1-4ac0-9f03-0a3a19c0aee6",
       "rows": [
        [
         "0",
         "210",
         "153.0",
         "4009.703618286541",
         "2001",
         "10.073834942048515"
        ],
        [
         "1",
         "200",
         "125.0",
         "3116.568769792314",
         "2018",
         "14.786988498105291"
        ],
        [
         "2",
         "150",
         "221.0",
         "2797.684087579059",
         "2003",
         "16.344033259461"
        ],
        [
         "3",
         "190",
         "141.0",
         "3548.9107701998096",
         "2009",
         "12.50057538465876"
        ],
        [
         "4",
         "200",
         "169.0",
         "3492.5420802656445",
         "2020",
         "13.426546074917336"
        ]
       ],
       "shape": {
        "columns": 5,
        "rows": 5
       }
      },
      "text/html": [
       "<div>\n",
       "<style scoped>\n",
       "    .dataframe tbody tr th:only-of-type {\n",
       "        vertical-align: middle;\n",
       "    }\n",
       "\n",
       "    .dataframe tbody tr th {\n",
       "        vertical-align: top;\n",
       "    }\n",
       "\n",
       "    .dataframe thead th {\n",
       "        text-align: right;\n",
       "    }\n",
       "</style>\n",
       "<table border=\"1\" class=\"dataframe\">\n",
       "  <thead>\n",
       "    <tr style=\"text-align: right;\">\n",
       "      <th></th>\n",
       "      <th>engine_displacement</th>\n",
       "      <th>horsepower</th>\n",
       "      <th>vehicle_weight</th>\n",
       "      <th>model_year</th>\n",
       "      <th>fuel_efficiency_mpg</th>\n",
       "    </tr>\n",
       "  </thead>\n",
       "  <tbody>\n",
       "    <tr>\n",
       "      <th>0</th>\n",
       "      <td>210</td>\n",
       "      <td>153.0</td>\n",
       "      <td>4009.703618</td>\n",
       "      <td>2001</td>\n",
       "      <td>10.073835</td>\n",
       "    </tr>\n",
       "    <tr>\n",
       "      <th>1</th>\n",
       "      <td>200</td>\n",
       "      <td>125.0</td>\n",
       "      <td>3116.568770</td>\n",
       "      <td>2018</td>\n",
       "      <td>14.786988</td>\n",
       "    </tr>\n",
       "    <tr>\n",
       "      <th>2</th>\n",
       "      <td>150</td>\n",
       "      <td>221.0</td>\n",
       "      <td>2797.684088</td>\n",
       "      <td>2003</td>\n",
       "      <td>16.344033</td>\n",
       "    </tr>\n",
       "    <tr>\n",
       "      <th>3</th>\n",
       "      <td>190</td>\n",
       "      <td>141.0</td>\n",
       "      <td>3548.910770</td>\n",
       "      <td>2009</td>\n",
       "      <td>12.500575</td>\n",
       "    </tr>\n",
       "    <tr>\n",
       "      <th>4</th>\n",
       "      <td>200</td>\n",
       "      <td>169.0</td>\n",
       "      <td>3492.542080</td>\n",
       "      <td>2020</td>\n",
       "      <td>13.426546</td>\n",
       "    </tr>\n",
       "  </tbody>\n",
       "</table>\n",
       "</div>"
      ],
      "text/plain": [
       "   engine_displacement  horsepower  vehicle_weight  model_year  \\\n",
       "0                  210       153.0     4009.703618        2001   \n",
       "1                  200       125.0     3116.568770        2018   \n",
       "2                  150       221.0     2797.684088        2003   \n",
       "3                  190       141.0     3548.910770        2009   \n",
       "4                  200       169.0     3492.542080        2020   \n",
       "\n",
       "   fuel_efficiency_mpg  \n",
       "0            10.073835  \n",
       "1            14.786988  \n",
       "2            16.344033  \n",
       "3            12.500575  \n",
       "4            13.426546  "
      ]
     },
     "execution_count": 43,
     "metadata": {},
     "output_type": "execute_result"
    }
   ],
   "source": [
    "# show sample of test data\n",
    "df_test.head()"
   ]
  },
  {
   "cell_type": "code",
   "execution_count": 44,
   "id": "23a9406b",
   "metadata": {},
   "outputs": [],
   "source": [
    "# split data to X and y\n",
    "\n",
    "y_train = df_train['fuel_efficiency_mpg'].values\n",
    "X_train = df_train.drop('fuel_efficiency_mpg', axis=1)\n",
    "\n",
    "y_val = df_val['fuel_efficiency_mpg'].values\n",
    "X_val = df_val.drop('fuel_efficiency_mpg', axis=1)\n",
    "\n",
    "y_test = df_test['fuel_efficiency_mpg'].values\n",
    "X_test = df_test.drop('fuel_efficiency_mpg', axis=1)\n"
   ]
  },
  {
   "cell_type": "code",
   "execution_count": 45,
   "id": "fb17200f",
   "metadata": {},
   "outputs": [
    {
     "data": {
      "application/vnd.microsoft.datawrangler.viewer.v0+json": {
       "columns": [
        {
         "name": "index",
         "rawType": "object",
         "type": "string"
        },
        {
         "name": "0",
         "rawType": "int64",
         "type": "integer"
        }
       ],
       "ref": "15a53f64-561d-4366-99e0-1c25f6f2b6c5",
       "rows": [
        [
         "engine_displacement",
         "0"
        ],
        [
         "horsepower",
         "134"
        ],
        [
         "vehicle_weight",
         "0"
        ],
        [
         "model_year",
         "0"
        ]
       ],
       "shape": {
        "columns": 1,
        "rows": 4
       }
      },
      "text/plain": [
       "engine_displacement      0\n",
       "horsepower             134\n",
       "vehicle_weight           0\n",
       "model_year               0\n",
       "dtype: int64"
      ]
     },
     "execution_count": 45,
     "metadata": {},
     "output_type": "execute_result"
    }
   ],
   "source": [
    "X_val.isna().sum()"
   ]
  },
  {
   "cell_type": "code",
   "execution_count": null,
   "id": "bfc1179f",
   "metadata": {},
   "outputs": [],
   "source": []
  },
  {
   "cell_type": "markdown",
   "id": "b7460f41",
   "metadata": {},
   "source": [
    "# Question 3\n",
    "We need to deal with missing values for the column from Q1.\n",
    "\n",
    "We have two options: fill it with 0 or with the mean of this variable.\n",
    "\n",
    "Try both options. For each, train a linear regression model without regularization using the code from the lessons.\n",
    "\n",
    "For computing the mean, use the training only!\n",
    "\n",
    "Use the validation dataset to evaluate the models and compare the RMSE of each option.\n",
    "\n",
    "Round the RMSE scores to 2 decimal digits using round(score, 2)\n",
    "\n",
    "Which option gives better RMSE?\n",
    "\n",
    "Options:\n",
    "\n",
    "* With 0\n",
    "\n",
    "* With mean\n",
    "\n",
    "* Both are equally good"
   ]
  },
  {
   "cell_type": "code",
   "execution_count": 46,
   "id": "5d4a34a0",
   "metadata": {},
   "outputs": [],
   "source": [
    "def train_linear_regression(X, y):\n",
    "    ones = np.ones(X.shape[0])\n",
    "    X = np.column_stack([ones, X])\n",
    "    #print(X)\n",
    "    #print('')\n",
    "\n",
    "    XTX = X.T.dot(X)\n",
    "    #print(XTX)\n",
    "    #print('')\n",
    "    XTX_inv = np.linalg.inv(XTX)\n",
    "    #print(XTX_inv)\n",
    "    #print('')\n",
    "    w_full = XTX_inv.dot(X.T).dot(y)\n",
    "    \n",
    "    return w_full[0], w_full[1:]"
   ]
  },
  {
   "cell_type": "code",
   "execution_count": 47,
   "id": "5876bf4b",
   "metadata": {},
   "outputs": [],
   "source": [
    "def rmse(y, y_pred):\n",
    "    se = (y - y_pred) ** 2\n",
    "    mse = se.mean()\n",
    "    return np.sqrt(mse)"
   ]
  },
  {
   "cell_type": "markdown",
   "id": "64a7586c",
   "metadata": {},
   "source": [
    "## Option 1: fill horsepower na with 0"
   ]
  },
  {
   "cell_type": "code",
   "execution_count": 48,
   "id": "10becdeb",
   "metadata": {},
   "outputs": [],
   "source": [
    "# fill horsepower na with 0\n",
    "\n",
    "X_train_opt1 = X_train.copy()\n",
    "X_train_opt1['horsepower'] = X_train_opt1['horsepower'].fillna(0)\n",
    "\n",
    "X_val_opt1 = X_val.copy()\n",
    "X_val_opt1['horsepower'] = X_val_opt1['horsepower'].fillna(0)\n",
    "\n",
    "X_test_opt1 = X_test.copy()\n",
    "X_test_opt1['horsepower'] = X_test_opt1['horsepower'].fillna(0)\n"
   ]
  },
  {
   "cell_type": "code",
   "execution_count": 49,
   "id": "f50d7480",
   "metadata": {},
   "outputs": [
    {
     "name": "stdout",
     "output_type": "stream",
     "text": [
      "(25.904357611918527, array([ 0.0001526 ,  0.00378541, -0.00500641,  0.00176812]))\n"
     ]
    }
   ],
   "source": [
    "# train \n",
    "\n",
    "r_opt1 = train_linear_regression(X_train_opt1, y_train)\n",
    "\n",
    "print(r_opt1)\n",
    "\n",
    "w0_opt1, w_opt1 = r_opt1[0], r_opt1[1]\n"
   ]
  },
  {
   "cell_type": "code",
   "execution_count": 50,
   "id": "0d0765ea",
   "metadata": {},
   "outputs": [
    {
     "name": "stdout",
     "output_type": "stream",
     "text": [
      "0       10.795840\n",
      "1       16.769341\n",
      "2       13.368076\n",
      "3       11.426304\n",
      "4       15.181108\n",
      "          ...    \n",
      "1935    18.235831\n",
      "1936    15.834373\n",
      "1937    17.293212\n",
      "1938    13.200382\n",
      "1939    12.278974\n",
      "Length: 1940, dtype: float64\n"
     ]
    }
   ],
   "source": [
    "# do val\n",
    "y_val_pred_opt1 = w0_opt1 + X_val_opt1.dot(w_opt1)\n",
    "print(y_val_pred_opt1)"
   ]
  },
  {
   "cell_type": "code",
   "execution_count": 51,
   "id": "34cd4b18",
   "metadata": {},
   "outputs": [
    {
     "data": {
      "text/plain": [
       "<matplotlib.legend.Legend at 0x20a763787d0>"
      ]
     },
     "execution_count": 51,
     "metadata": {},
     "output_type": "execute_result"
    },
    {
     "data": {
      "image/png": "[encoded data removed]",
      "text/plain": [
       "<Figure size 640x480 with 1 Axes>"
      ]
     },
     "metadata": {},
     "output_type": "display_data"
    }
   ],
   "source": [
    "sns.histplot(y_val_pred_opt1, label='prediction')\n",
    "sns.histplot(y_train, label='target')\n",
    "plt.legend()"
   ]
  },
  {
   "cell_type": "code",
   "execution_count": 52,
   "id": "3a69f87d",
   "metadata": {},
   "outputs": [
    {
     "name": "stdout",
     "output_type": "stream",
     "text": [
      "With 0, rmse :  0.52\n"
     ]
    }
   ],
   "source": [
    "# calculate RMSE\n",
    "rmse_val_opt1 = rmse(y_val, y_val_pred_opt1).round(2)\n",
    "\n",
    "print(\"With 0, rmse : \", rmse_val_opt1)"
   ]
  },
  {
   "cell_type": "markdown",
   "id": "21b0116e",
   "metadata": {},
   "source": [
    "## Option 2: fill horsepower na with mean"
   ]
  },
  {
   "cell_type": "code",
   "execution_count": 53,
   "id": "c57e86f4",
   "metadata": {},
   "outputs": [],
   "source": [
    "# fill horsepower na with mean\n",
    "\n",
    "horsepower_mean = X_train['horsepower'].mean()\n",
    "\n",
    "X_train_opt2 = X_train.copy()\n",
    "X_train_opt2['horsepower'] = X_train_opt2['horsepower'].fillna(horsepower_mean)\n",
    "\n",
    "X_val_opt2 = X_val.copy()\n",
    "X_val_opt2['horsepower'] = X_val_opt2['horsepower'].fillna(horsepower_mean)\n",
    "\n",
    "X_test_opt2 = X_test.copy()\n",
    "X_test_opt2['horsepower'] = X_test_opt2['horsepower'].fillna(horsepower_mean)"
   ]
  },
  {
   "cell_type": "code",
   "execution_count": 54,
   "id": "125c8e98",
   "metadata": {},
   "outputs": [
    {
     "name": "stdout",
     "output_type": "stream",
     "text": [
      "(25.83295396935493, array([ 0.00020173,  0.01045072, -0.0050125 ,  0.00129226]))\n"
     ]
    }
   ],
   "source": [
    "# train \n",
    "\n",
    "r_opt2 = train_linear_regression(X_train_opt2, y_train)\n",
    "\n",
    "print(r_opt2)\n",
    "\n",
    "w0_opt2, w_opt2 = r_opt2[0], r_opt2[1]\n"
   ]
  },
  {
   "cell_type": "code",
   "execution_count": 55,
   "id": "f4a4a0ca",
   "metadata": {},
   "outputs": [
    {
     "name": "stdout",
     "output_type": "stream",
     "text": [
      "0       10.672857\n",
      "1       16.596459\n",
      "2       13.281469\n",
      "3       11.659392\n",
      "4       15.233634\n",
      "          ...    \n",
      "1935    18.201814\n",
      "1936    15.715050\n",
      "1937    16.956461\n",
      "1938    13.032206\n",
      "1939    12.319075\n",
      "Length: 1940, dtype: float64\n"
     ]
    }
   ],
   "source": [
    "# do val\n",
    "y_val_pred_opt2 = w0_opt2 + X_val_opt2.dot(w_opt2)\n",
    "print(y_val_pred_opt2)"
   ]
  },
  {
   "cell_type": "code",
   "execution_count": 56,
   "id": "52bd4b39",
   "metadata": {},
   "outputs": [
    {
     "data": {
      "text/plain": [
       "<matplotlib.legend.Legend at 0x20a73e79e20>"
      ]
     },
     "execution_count": 56,
     "metadata": {},
     "output_type": "execute_result"
    },
    {
     "data": {
      "image/png": "[encoded data removed]",
      "text/plain": [
       "<Figure size 640x480 with 1 Axes>"
      ]
     },
     "metadata": {},
     "output_type": "display_data"
    }
   ],
   "source": [
    "sns.histplot(y_val_pred_opt2, label='prediction')\n",
    "sns.histplot(y_train, label='target')\n",
    "plt.legend()"
   ]
  },
  {
   "cell_type": "code",
   "execution_count": 57,
   "id": "067af018",
   "metadata": {},
   "outputs": [
    {
     "name": "stdout",
     "output_type": "stream",
     "text": [
      "With mean, rmse :  0.47\n"
     ]
    }
   ],
   "source": [
    "# calculate RMSE\n",
    "rmse_val_opt2 = rmse(y_val, y_val_pred_opt2).round(2)\n",
    "\n",
    "print(\"With mean, rmse : \", rmse_val_opt2)"
   ]
  },
  {
   "cell_type": "markdown",
   "id": "201437f6",
   "metadata": {},
   "source": [
    "It's better using mean as imputation. It give rmse 0.47, better than 0.52"
   ]
  },
  {
   "cell_type": "code",
   "execution_count": null,
   "id": "8b2685f5",
   "metadata": {},
   "outputs": [],
   "source": []
  },
  {
   "cell_type": "markdown",
   "id": "e76fc93b",
   "metadata": {},
   "source": [
    "# Question 4\n",
    "\n",
    "Now let's train a regularized linear regression.\n",
    "\n",
    "For this question, fill the NAs with 0.\n",
    "\n",
    "Try different values of r from this list: [0, 0.01, 0.1, 1, 5, 10, 100].\n",
    "\n",
    "Use RMSE to evaluate the model on the validation dataset.\n",
    "\n",
    "Round the RMSE scores to 2 decimal digits.\n",
    "\n",
    "Which r gives the best RMSE?\n",
    "\n",
    "If there are multiple options, select the smallest r.\n",
    "\n",
    "Options:\n",
    "\n",
    "* 0\n",
    "\n",
    "* 0.01\n",
    "\n",
    "* 1\n",
    "\n",
    "* 10\n",
    "\n",
    "* 100"
   ]
  },
  {
   "cell_type": "code",
   "execution_count": 58,
   "id": "6e89b9e1",
   "metadata": {},
   "outputs": [],
   "source": [
    "def train_linear_regression_reg(X, y, r=0.001):\n",
    "    ones = np.ones(X.shape[0])\n",
    "    X = np.column_stack([ones, X])\n",
    "\n",
    "    XTX = X.T.dot(X)\n",
    "    XTX = XTX + r * np.eye(XTX.shape[0])\n",
    "\n",
    "    XTX_inv = np.linalg.inv(XTX)\n",
    "    w_full = XTX_inv.dot(X.T).dot(y)\n",
    "    \n",
    "    return w_full[0], w_full[1:]"
   ]
  },
  {
   "cell_type": "code",
   "execution_count": 59,
   "id": "c6281ed1",
   "metadata": {},
   "outputs": [],
   "source": [
    "# fill horsepower na with 0\n",
    "\n",
    "X_train_opt1 = X_train.copy()\n",
    "X_train_opt1['horsepower'] = X_train_opt1['horsepower'].fillna(0)\n",
    "\n",
    "X_val_opt1 = X_val.copy()\n",
    "X_val_opt1['horsepower'] = X_val_opt1['horsepower'].fillna(0)\n",
    "\n",
    "X_test_opt1 = X_test.copy()\n",
    "X_test_opt1['horsepower'] = X_test_opt1['horsepower'].fillna(0)\n"
   ]
  },
  {
   "cell_type": "code",
   "execution_count": 60,
   "id": "6d9e9d7c",
   "metadata": {},
   "outputs": [],
   "source": [
    "reg = [0, 0.01, 0.1, 1, 5, 10, 100]"
   ]
  },
  {
   "cell_type": "code",
   "execution_count": 61,
   "id": "5e9cdd6c",
   "metadata": {},
   "outputs": [
    {
     "name": "stdout",
     "output_type": "stream",
     "text": [
      "[0.52, 0.52, 0.53, 0.53, 0.53, 0.53, 0.53]\n"
     ]
    }
   ],
   "source": [
    "list_rmse = []\n",
    "\n",
    "for r in reg:\n",
    "    w0, w = train_linear_regression_reg(X_train_opt1, y_train, r)\n",
    "    y_val_pred = w0 + X_val_opt1.dot(w)\n",
    "    rmse_val = rmse(y_val, y_val_pred).round(2)\n",
    "    list_rmse.append(rmse_val)\n",
    "\n",
    "print(list_rmse)\n",
    "\n",
    "    "
   ]
  },
  {
   "cell_type": "markdown",
   "id": "74269dbf",
   "metadata": {},
   "source": [
    "The best rmse is r = 0"
   ]
  },
  {
   "cell_type": "code",
   "execution_count": null,
   "id": "ec9a28c5",
   "metadata": {},
   "outputs": [],
   "source": []
  },
  {
   "cell_type": "markdown",
   "id": "f7a82ba0",
   "metadata": {},
   "source": [
    "# Question 5\n",
    "We used seed 42 for splitting the data. Let's find out how selecting the seed influences our score.\n",
    "\n",
    "Try different seed values: [0, 1, 2, 3, 4, 5, 6, 7, 8, 9].\n",
    "\n",
    "For each seed, do the train/validation/test split with 60%/20%/20% distribution.\n",
    "\n",
    "Fill the missing values with 0 and train a model without regularization.\n",
    "\n",
    "For each seed, evaluate the model on the validation dataset and collect the RMSE scores.\n",
    "\n",
    "What's the standard deviation of all the scores? To compute the standard deviation, use np.std.\n",
    "\n",
    "Round the result to 3 decimal digits (round(std, 3))\n",
    "\n",
    "What's the value of std?\n",
    "\n",
    "* 0.001\n",
    "\n",
    "* 0.006\n",
    "\n",
    "* 0.060\n",
    "\n",
    "* 0.600\n",
    "\n",
    "Note: Standard deviation shows how different the values are. If it's low, then all values are approximately the same. If it's high, the values are different. If standard deviation of scores is low, then our model is stable."
   ]
  },
  {
   "cell_type": "code",
   "execution_count": 62,
   "id": "99ea31ca",
   "metadata": {},
   "outputs": [],
   "source": [
    "seed_array = [0, 1, 2, 3, 4, 5, 6, 7, 8, 9]\n",
    "\n",
    "rmse_list = []\n",
    "\n",
    "for seed in seed_array:\n",
    "    # create an array with indices from 0 to n-1\n",
    "    idx = np.arange(n)\n",
    "\n",
    "    # set seed and shuffle idx\n",
    "    np.random.seed(seed)\n",
    "    np.random.shuffle(idx)\n",
    "\n",
    "    # split train, val, test = 60%, 20%, 20%\n",
    "    n_val = int(n * 0.2)\n",
    "    n_test = int(n * 0.2)\n",
    "    n_train = n - n_val - n_test\n",
    "\n",
    "    # create train, val, test dataframes\n",
    "    # train = 0 - n_train\n",
    "    df_train = df_data.iloc[idx[:n_train]]\n",
    "    # val = n_train - n_train+n_val\n",
    "    df_val = df_data.iloc[idx[n_train:n_train+n_val]]\n",
    "    # test = n_train+n_val - n\n",
    "    df_test = df_data.iloc[idx[n_train+n_val:]]\n",
    "    #print(df_train.head(5))\n",
    "\n",
    "    # reset index\n",
    "    df_train = df_train.reset_index(drop=True)\n",
    "    df_val = df_val.reset_index(drop=True)\n",
    "    df_test = df_test.reset_index(drop=True)\n",
    "\n",
    "    # split data to X and y\n",
    "    y_train = df_train['fuel_efficiency_mpg'].values\n",
    "    X_train = df_train.drop('fuel_efficiency_mpg', axis=1)\n",
    "\n",
    "    y_val = df_val['fuel_efficiency_mpg'].values\n",
    "    X_val = df_val.drop('fuel_efficiency_mpg', axis=1)\n",
    "\n",
    "    y_test = df_test['fuel_efficiency_mpg'].values\n",
    "    X_test = df_test.drop('fuel_efficiency_mpg', axis=1)\n",
    "\n",
    "\n",
    "    X_train_opt1 = X_train.copy()\n",
    "    X_train_opt1['horsepower'] = X_train_opt1['horsepower'].fillna(0)\n",
    "\n",
    "    X_val_opt1 = X_val.copy()\n",
    "    X_val_opt1['horsepower'] = X_val_opt1['horsepower'].fillna(0)\n",
    "\n",
    "    X_test_opt1 = X_test.copy()\n",
    "    X_test_opt1['horsepower'] = X_test_opt1['horsepower'].fillna(0)\n",
    "\n",
    "    r_opt1 = train_linear_regression(X_train_opt1, y_train)\n",
    "\n",
    "    #print(r_opt1)\n",
    "\n",
    "    w0_opt1, w_opt1 = r_opt1[0], r_opt1[1]\n",
    "\n",
    "    # do val\n",
    "    y_val_pred_opt1 = w0_opt1 + X_val_opt1.dot(w_opt1)\n",
    "\n",
    "    # calculate RMSE\n",
    "    rmse_val_opt1 = rmse(y_val, y_val_pred_opt1).round(3)\n",
    "\n",
    "    rmse_list.append(rmse_val_opt1)\n"
   ]
  },
  {
   "cell_type": "code",
   "execution_count": 63,
   "id": "43f6ddf5",
   "metadata": {},
   "outputs": [
    {
     "data": {
      "text/plain": [
       "[0.521, 0.521, 0.523, 0.516, 0.511, 0.528, 0.531, 0.509, 0.515, 0.513]"
      ]
     },
     "execution_count": 63,
     "metadata": {},
     "output_type": "execute_result"
    }
   ],
   "source": [
    "rmse_list"
   ]
  },
  {
   "cell_type": "code",
   "execution_count": 64,
   "id": "7d92bd3c",
   "metadata": {},
   "outputs": [
    {
     "name": "stdout",
     "output_type": "stream",
     "text": [
      "std rmse :  0.0069\n"
     ]
    }
   ],
   "source": [
    "std_rmse = np.std(rmse_list).round(4)\n",
    "\n",
    "print(\"std rmse : \", std_rmse)"
   ]
  },
  {
   "cell_type": "markdown",
   "id": "566f3f13",
   "metadata": {},
   "source": [
    "Because the target and features are approximately normally distributed, changing the random seed did not have a big impact on the splits.\n",
    "\n",
    "In my experiments with 10 different seeds, the standard deviation of the validation RMSE was only about 0.007, indicating that the effect of the random seed on model performance is very small for this dataset and model.\n",
    "\n",
    "However, for other datasets, especially those that are smaller, imbalanced, or have skewed distributions, changing the seed can have a larger impact.\n",
    "\n",
    "Therefore, the conclusion that \"changing the seed doesn’t have a big impact” is specific to this dataset and model and cannot be generalized."
   ]
  },
  {
   "cell_type": "code",
   "execution_count": null,
   "id": "49123449",
   "metadata": {},
   "outputs": [],
   "source": []
  },
  {
   "cell_type": "markdown",
   "id": "121a6cd9",
   "metadata": {},
   "source": [
    "# Question 6\n",
    "Split the dataset like previously, use seed 9.\n",
    "\n",
    "Combine train and validation datasets.\n",
    "\n",
    "Fill the missing values with 0 and train a model with r=0.001.\n",
    "\n",
    "What's the RMSE on the test dataset?\n",
    "\n",
    "Options:\n",
    "\n",
    "* 0.15\n",
    "* 0.515\n",
    "* 5.15\n",
    "* 51.5"
   ]
  },
  {
   "cell_type": "code",
   "execution_count": 65,
   "id": "4b1addff",
   "metadata": {},
   "outputs": [
    {
     "name": "stdout",
     "output_type": "stream",
     "text": [
      "rmse :  0.516\n"
     ]
    }
   ],
   "source": [
    "seed = 9\n",
    "\n",
    "# create an array with indices from 0 to n-1\n",
    "idx = np.arange(n)\n",
    "\n",
    "# set seed and shuffle idx\n",
    "np.random.seed(seed)\n",
    "np.random.shuffle(idx)\n",
    "\n",
    "# split train, test = 80%, 20%\n",
    "#n_val = int(n * 0.2)\n",
    "n_test = int(n * 0.2)\n",
    "n_train = n - n_test\n",
    "\n",
    "# create train, test dataframes\n",
    "# train = 0 - n_train\n",
    "df_train = df_data.iloc[idx[:n_train]]\n",
    "# test = n_train+n_val - n\n",
    "df_test = df_data.iloc[idx[n_train:]]\n",
    "#print(df_train.head(5))\n",
    "\n",
    "# reset index\n",
    "df_train = df_train.reset_index(drop=True)\n",
    "df_test = df_test.reset_index(drop=True)\n",
    "\n",
    "# split data to X and y\n",
    "y_train = df_train['fuel_efficiency_mpg'].values\n",
    "X_train = df_train.drop('fuel_efficiency_mpg', axis=1)\n",
    "\n",
    "y_test = df_test['fuel_efficiency_mpg'].values\n",
    "X_test = df_test.drop('fuel_efficiency_mpg', axis=1)\n",
    "\n",
    "\n",
    "X_train_opt1 = X_train.copy()\n",
    "X_train_opt1['horsepower'] = X_train_opt1['horsepower'].fillna(0)\n",
    "\n",
    "X_test_opt1 = X_test.copy()\n",
    "X_test_opt1['horsepower'] = X_test_opt1['horsepower'].fillna(0)\n",
    "\n",
    "r_opt1 = train_linear_regression_reg(X_train_opt1, y_train, 0.001)\n",
    "\n",
    "#print(r_opt1)\n",
    "\n",
    "w0_opt1, w_opt1 = r_opt1[0], r_opt1[1]\n",
    "\n",
    "# do test\n",
    "y_test_pred_opt1 = w0_opt1 + X_test_opt1.dot(w_opt1)\n",
    "\n",
    "# calculate RMSE\n",
    "rmse_test_opt1 = rmse(y_test, y_test_pred_opt1).round(3)\n",
    "\n",
    "print(\"rmse : \", rmse_test_opt1)\n"
   ]
  },
  {
   "cell_type": "code",
   "execution_count": 66,
   "id": "d83197e4",
   "metadata": {},
   "outputs": [
    {
     "data": {
      "text/plain": [
       "<matplotlib.legend.Legend at 0x20a762d6ea0>"
      ]
     },
     "execution_count": 66,
     "metadata": {},
     "output_type": "execute_result"
    },
    {
     "data": {
      "image/png": "[encoded data removed]",
      "text/plain": [
       "<Figure size 640x480 with 1 Axes>"
      ]
     },
     "metadata": {},
     "output_type": "display_data"
    }
   ],
   "source": [
    "sns.histplot(y_test_pred_opt1, label='prediction')\n",
    "sns.histplot(y_test, label='target')\n",
    "plt.legend()"
   ]
  },
  {
   "cell_type": "markdown",
   "id": "c92e23fa",
   "metadata": {},
   "source": [
    "In this case, the model trained on more data (60%+20%). And by adding regularization 0.001, the RMSE is 0.516.\n",
    "\n",
    "The RMSE closer to previously do with val data.\n",
    "\n",
    "It can be conclude no overfitting and no mismatch data between train and validation data.\n",
    "\n",
    "The model generalize well.\n",
    "\n"
   ]
  },
  {
   "cell_type": "code",
   "execution_count": null,
   "id": "ff3f3e0e",
   "metadata": {},
   "outputs": [],
   "source": []
  }
 ],
 "metadata": {
  "kernelspec": {
   "display_name": "ml",
   "language": "python",
   "name": "python3"
  },
  "language_info": {
   "codemirror_mode": {
    "name": "ipython",
    "version": 3
   },
   "file_extension": ".py",
   "mimetype": "text/x-python",
   "name": "python",
   "nbconvert_exporter": "python",
   "pygments_lexer": "ipython3",
   "version": "3.12.9"
  }
 },
 "nbformat": 4,
 "nbformat_minor": 5
}
