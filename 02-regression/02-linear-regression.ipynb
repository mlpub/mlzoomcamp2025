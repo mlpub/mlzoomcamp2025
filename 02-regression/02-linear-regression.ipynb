{
 "cells": [
  {
   "cell_type": "markdown",
   "metadata": {},
   "source": [
    "## 2. Machine Learning for Regression\n"
   ]
  },
  {
   "cell_type": "code",
   "execution_count": 2,
   "metadata": {
    "scrolled": true
   },
   "outputs": [],
   "source": [
    "import pandas as pd\n",
    "import numpy as np\n",
    "import matplotlib.pyplot as plt\n",
    "import seaborn as sns\n",
    "\n",
    "%matplotlib inline"
   ]
  },
  {
   "cell_type": "markdown",
   "id": "16ddafbe",
   "metadata": {},
   "source": [
    "### Linear regression, in simple taxi cost calculation.\n",
    "\n",
    "Linear regression is about finding a straight-line formula that connects the input and the output.\n",
    "As example, taxi trip cost:\n",
    "* Input: distance of the taxi ride (in km).\n",
    "* Output: total cost of the ride.\n",
    "\n",
    "We assume the cost grows in a straight-line pattern as distance increases.\n",
    "\n",
    "Let say we have a taxi trip cost base on ride distance\n",
    "| Distance (km) | Total cost |\n",
    "| ------------- | ---------- |\n",
    "| 1             | 10         |\n",
    "| 3             | 27         |\n",
    "| 5             | 41         |\n",
    "| 7             | 59         |\n",
    "| 10            | 84         |\n"
   ]
  },
  {
   "cell_type": "markdown",
   "id": "75fc2312",
   "metadata": {},
   "source": [
    "First, construct the data as input/features and output/target"
   ]
  },
  {
   "cell_type": "code",
   "execution_count": 3,
   "id": "2c165897",
   "metadata": {},
   "outputs": [],
   "source": [
    "# declare target variable\n",
    "y = np.array([10,26,42,58,82])\n",
    "\n",
    "# declare input/feature variable\n",
    "X = np.array([1,3,5,7,10])"
   ]
  },
  {
   "cell_type": "markdown",
   "id": "249bfb66",
   "metadata": {},
   "source": [
    "Linear Regression model is y = w0 + w1*x1"
   ]
  },
  {
   "cell_type": "code",
   "execution_count": 4,
   "id": "8948f43f",
   "metadata": {},
   "outputs": [
    {
     "name": "stdout",
     "output_type": "stream",
     "text": [
      "[[ 1.  1.]\n",
      " [ 1.  3.]\n",
      " [ 1.  5.]\n",
      " [ 1.  7.]\n",
      " [ 1. 10.]]\n"
     ]
    }
   ],
   "source": [
    "# append a column of ones to X, for the intercept term (b0)\n",
    "\n",
    "ones = np.ones(X.shape[0])\n",
    "X = np.column_stack([ones, X])\n",
    "\n",
    "print(X)"
   ]
  },
  {
   "cell_type": "code",
   "execution_count": null,
   "id": "33335608",
   "metadata": {},
   "outputs": [
    {
     "name": "stdout",
     "output_type": "stream",
     "text": [
      "[2. 8.]\n"
     ]
    }
   ],
   "source": [
    "c\n",
    "XTX = X.T.dot(X)\n",
    "XTX_inv = np.linalg.inv(XTX)\n",
    "w_full = XTX_inv.dot(X.T).dot(y)\n",
    "\n",
    "print(w_full)  # w0, w1"
   ]
  },
  {
   "cell_type": "markdown",
   "id": "85eb85bf",
   "metadata": {},
   "source": [
    "we get parameter of w0 and w1 are 2 and 8."
   ]
  },
  {
   "cell_type": "code",
   "execution_count": 7,
   "id": "5ee1f2a9",
   "metadata": {},
   "outputs": [],
   "source": [
    "def predict_cost(x):\n",
    "    w0 = 2.0\n",
    "    w1 = 8.0\n",
    "    return w0 + w1*x"
   ]
  },
  {
   "cell_type": "code",
   "execution_count": 8,
   "id": "78c328c4",
   "metadata": {},
   "outputs": [
    {
     "name": "stdout",
     "output_type": "stream",
     "text": [
      "For x=5, predicted cost is 42.0\n",
      "For x=9, predicted cost is 74.0\n",
      "For x=20, predicted cost is 162.0\n",
      "For x=23, predicted cost is 186.0\n"
     ]
    }
   ],
   "source": [
    "xt = np.array([5, 9, 20, 23])\n",
    "\n",
    "for x in xt:\n",
    "    print(f'For x={x}, predicted cost is {predict_cost(x)}')\n"
   ]
  },
  {
   "cell_type": "code",
   "execution_count": null,
   "id": "eb762e11",
   "metadata": {},
   "outputs": [],
   "source": []
  },
  {
   "cell_type": "markdown",
   "id": "3f4ea1e5",
   "metadata": {},
   "source": [
    "# How w is calculate \n",
    "\n",
    "In linear regression we don't usually solve (X.w = y) exactly because (X) is not square.\n",
    "Instead, we look for the least-squares solution, vector w that minimizes the sum of squared residuals (|y - X w|^2).\n",
    "\n",
    "Basic linear regression is:\n",
    "X.w = y\n",
    "\n",
    "Let's assume X has shape 5x3, 3 features and 5 data rows. The output y has shape 5x1, and w has shape 3x1.\n",
    "\n",
    "From X.w = y, we must do dot product by X transpose on both side.\n",
    "* X.w = y\n",
    "\n",
    "  Shape: (5x3).(3x1) = (5x1)\n",
    "\n",
    "* After multiply by X transpose Xt. To make it square matrix.\n",
    "\n",
    "  Xt.X.w = Xt.y\n",
    "\n",
    "  Shape: (3x5).(5x3).(3x1) = (3x5).(5x1)\n",
    "\n",
    "         (3x3).(3x1) = (3x1)\n",
    "\n",
    "* (Xt.X).w = Xt.y\n",
    "\n",
    "* Multiply by inverse of (Xt.X) on both side\n",
    "\n",
    "  (Xt.X)^-1.(Xt.X).w = (Xt.X)^-1.Xt.y\n",
    "\n",
    "  Shape: (3x3).(3x3).(3x1) = (3x3).(3x1)\n",
    "\n",
    "         (3x3).(3x1) = (3x1)\n",
    "\n",
    "* In left side, matrix multiplication with it's inverse, will become identity matrix\n",
    "\n",
    "  I.w = (Xt.X)^-1.Xt.y\n",
    "\n",
    "  Shape: (3x3).(3x1) = (3x1)\n",
    "\n",
    "* Matrix multiply with identity is equals to the matrix it self\n",
    "\n",
    "  w = (Xt.X)^-1.Xt.y\n",
    "\n",
    "  Shape: (3x1) = (3x1)\n",
    "\n",
    "\n",
    "\n",
    "\n",
    "\n",
    "\n",
    "\n"
   ]
  },
  {
   "cell_type": "code",
   "execution_count": null,
   "id": "be2f0e71",
   "metadata": {},
   "outputs": [],
   "source": []
  },
  {
   "cell_type": "code",
   "execution_count": null,
   "id": "2198901c",
   "metadata": {},
   "outputs": [],
   "source": []
  }
 ],
 "metadata": {
  "kernelspec": {
   "display_name": "ml",
   "language": "python",
   "name": "python3"
  },
  "language_info": {
   "codemirror_mode": {
    "name": "ipython",
    "version": 3
   },
   "file_extension": ".py",
   "mimetype": "text/x-python",
   "name": "python",
   "nbconvert_exporter": "python",
   "pygments_lexer": "ipython3",
   "version": "3.12.9"
  }
 },
 "nbformat": 4,
 "nbformat_minor": 5
}
