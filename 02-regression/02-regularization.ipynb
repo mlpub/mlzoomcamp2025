{
 "cells": [
  {
   "cell_type": "markdown",
   "metadata": {},
   "source": [
    "## 2. Machine Learning for Regression\n"
   ]
  },
  {
   "cell_type": "code",
   "execution_count": 1,
   "metadata": {
    "scrolled": true
   },
   "outputs": [],
   "source": [
    "import pandas as pd\n",
    "import numpy as np\n",
    "import matplotlib.pyplot as plt\n",
    "import seaborn as sns\n",
    "\n",
    "%matplotlib inline"
   ]
  },
  {
   "cell_type": "markdown",
   "id": "83d3e46f",
   "metadata": {},
   "source": [
    "### Regularization"
   ]
  },
  {
   "cell_type": "markdown",
   "id": "00961b75",
   "metadata": {},
   "source": [
    "In linear regression, if we have features that have linear relation, it can cause error 'singular matrix'.\n",
    "\n",
    "Because the determinant of the matrix is zero, it can raise like divide by zero.\n",
    "\n",
    "In linear regression equation, w = (X.T.X)^-1 * X.T * y\n",
    "\n",
    "(X.T.X)^-1 is inverse matrix."
   ]
  },
  {
   "cell_type": "code",
   "execution_count": null,
   "id": "bedae944",
   "metadata": {},
   "outputs": [],
   "source": [
    "# Example matrix\n",
    "# value in column 2 is 2*value in column 1\n",
    "X = np.array(\n",
    "    [\n",
    "       [1, 2, 4],\n",
    "       [2, 4, 8],\n",
    "       [3, 6, 12],\n",
    "    ])\n",
    "\n",
    "\n",
    "\n",
    "# another example matrix\n",
    "# value in column 3 is 2*column 1 + column 2\n",
    "X1 = np.array(\n",
    "    [\n",
    "       [1, 2, 3, 7],\n",
    "       [2, 4, 5, 13],\n",
    "       [3, 6, 7, 19],\n",
    "       [4, 3, 7, 13],\n",
    "    ])"
   ]
  },
  {
   "cell_type": "code",
   "execution_count": 13,
   "id": "3c1d21d7",
   "metadata": {},
   "outputs": [
    {
     "name": "stdout",
     "output_type": "stream",
     "text": [
      "Determinant: 0.0\n",
      "Determinant: 0.0\n"
     ]
    }
   ],
   "source": [
    "# calculate the determinant\n",
    "det = np.linalg.det(X)\n",
    "print(f'Determinant: {det}')\n",
    "\n",
    "# calculate the determinant\n",
    "det1 = np.linalg.det(X1)\n",
    "print(f'Determinant: {det1}')\n",
    "\n"
   ]
  },
  {
   "cell_type": "code",
   "execution_count": 14,
   "id": "8dbd7660",
   "metadata": {},
   "outputs": [
    {
     "ename": "LinAlgError",
     "evalue": "Singular matrix",
     "output_type": "error",
     "traceback": [
      "\u001b[0;31m---------------------------------------------------------------------------\u001b[0m",
      "\u001b[0;31mLinAlgError\u001b[0m                               Traceback (most recent call last)",
      "Cell \u001b[0;32mIn[14], line 2\u001b[0m\n\u001b[1;32m      1\u001b[0m XTX \u001b[38;5;241m=\u001b[39m X\u001b[38;5;241m.\u001b[39mT\u001b[38;5;241m.\u001b[39mdot(X)\n\u001b[0;32m----> 2\u001b[0m XTX_inv \u001b[38;5;241m=\u001b[39m \u001b[43mnp\u001b[49m\u001b[38;5;241;43m.\u001b[39;49m\u001b[43mlinalg\u001b[49m\u001b[38;5;241;43m.\u001b[39;49m\u001b[43minv\u001b[49m\u001b[43m(\u001b[49m\u001b[43mXTX\u001b[49m\u001b[43m)\u001b[49m\n",
      "File \u001b[0;32m~/venv/ml2/lib/python3.10/site-packages/numpy/linalg/linalg.py:561\u001b[0m, in \u001b[0;36minv\u001b[0;34m(a)\u001b[0m\n\u001b[1;32m    559\u001b[0m signature \u001b[38;5;241m=\u001b[39m \u001b[38;5;124m'\u001b[39m\u001b[38;5;124mD->D\u001b[39m\u001b[38;5;124m'\u001b[39m \u001b[38;5;28;01mif\u001b[39;00m isComplexType(t) \u001b[38;5;28;01melse\u001b[39;00m \u001b[38;5;124m'\u001b[39m\u001b[38;5;124md->d\u001b[39m\u001b[38;5;124m'\u001b[39m\n\u001b[1;32m    560\u001b[0m extobj \u001b[38;5;241m=\u001b[39m get_linalg_error_extobj(_raise_linalgerror_singular)\n\u001b[0;32m--> 561\u001b[0m ainv \u001b[38;5;241m=\u001b[39m \u001b[43m_umath_linalg\u001b[49m\u001b[38;5;241;43m.\u001b[39;49m\u001b[43minv\u001b[49m\u001b[43m(\u001b[49m\u001b[43ma\u001b[49m\u001b[43m,\u001b[49m\u001b[43m \u001b[49m\u001b[43msignature\u001b[49m\u001b[38;5;241;43m=\u001b[39;49m\u001b[43msignature\u001b[49m\u001b[43m,\u001b[49m\u001b[43m \u001b[49m\u001b[43mextobj\u001b[49m\u001b[38;5;241;43m=\u001b[39;49m\u001b[43mextobj\u001b[49m\u001b[43m)\u001b[49m\n\u001b[1;32m    562\u001b[0m \u001b[38;5;28;01mreturn\u001b[39;00m wrap(ainv\u001b[38;5;241m.\u001b[39mastype(result_t, copy\u001b[38;5;241m=\u001b[39m\u001b[38;5;28;01mFalse\u001b[39;00m))\n",
      "File \u001b[0;32m~/venv/ml2/lib/python3.10/site-packages/numpy/linalg/linalg.py:112\u001b[0m, in \u001b[0;36m_raise_linalgerror_singular\u001b[0;34m(err, flag)\u001b[0m\n\u001b[1;32m    111\u001b[0m \u001b[38;5;28;01mdef\u001b[39;00m \u001b[38;5;21m_raise_linalgerror_singular\u001b[39m(err, flag):\n\u001b[0;32m--> 112\u001b[0m     \u001b[38;5;28;01mraise\u001b[39;00m LinAlgError(\u001b[38;5;124m\"\u001b[39m\u001b[38;5;124mSingular matrix\u001b[39m\u001b[38;5;124m\"\u001b[39m)\n",
      "\u001b[0;31mLinAlgError\u001b[0m: Singular matrix"
     ]
    }
   ],
   "source": [
    "XTX = X.T.dot(X)\n",
    "XTX_inv = np.linalg.inv(XTX)"
   ]
  },
  {
   "cell_type": "markdown",
   "id": "2b6fa95c",
   "metadata": {},
   "source": [
    "To handle singular, adding a small value \n",
    "\n",
    "w = (X.T.X + r*I)^-1 * X.T * y\n",
    "\n",
    "I is identity matrix, r = small value "
   ]
  },
  {
   "cell_type": "code",
   "execution_count": null,
   "id": "e8025efb",
   "metadata": {},
   "outputs": [
    {
     "name": "stdout",
     "output_type": "stream",
     "text": [
      "Determinant: 1.7000099999824666e-07\n",
      "Determinant: 0.0014995200250118403\n"
     ]
    }
   ],
   "source": [
    "I = np.eye(X.shape[0])\n",
    "r = 0.0001  # small value\n",
    "X_r = X + r*I\n",
    "\n",
    "det = np.linalg.det(X_r)\n",
    "print(f'Determinant: {det}')\n",
    "\n",
    "# use function eye to create identity matrix\n",
    "I1 = np.eye(X1.shape[0])\n",
    "X1_r = X1 + r*I1\n",
    "\n",
    "det1 = np.linalg.det(X1_r)\n",
    "print(f'Determinant: {det1}')"
   ]
  },
  {
   "cell_type": "markdown",
   "id": "5ffc149c",
   "metadata": {},
   "source": [
    "```\n",
    "w = (X.T.X + r*I )^-1 * X.T * y\n",
    "\n",
    "XTX = X.T.dot(X)\n",
    "\n",
    "# create identity matrix\n",
    "I = np.eye(XTX.shape[0])\n",
    "r = 0.0001  # small value\n",
    "XTX_r = XTX + r*I\n",
    "\n",
    "XTX_inv = np.linalg.inv(XTX_r)\n",
    "w_full = XTX_inv.dot(X.T).dot(y)\n",
    "\n",
    "print(w_full)  # w0, w1\n",
    "```"
   ]
  },
  {
   "cell_type": "code",
   "execution_count": null,
   "id": "be2f0e71",
   "metadata": {},
   "outputs": [],
   "source": []
  },
  {
   "cell_type": "code",
   "execution_count": null,
   "id": "2198901c",
   "metadata": {},
   "outputs": [],
   "source": []
  }
 ],
 "metadata": {
  "kernelspec": {
   "display_name": "ml2",
   "language": "python",
   "name": "python3"
  },
  "language_info": {
   "codemirror_mode": {
    "name": "ipython",
    "version": 3
   },
   "file_extension": ".py",
   "mimetype": "text/x-python",
   "name": "python",
   "nbconvert_exporter": "python",
   "pygments_lexer": "ipython3",
   "version": "3.10.12"
  }
 },
 "nbformat": 4,
 "nbformat_minor": 5
}
