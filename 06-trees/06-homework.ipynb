{
 "cells": [
  {
   "cell_type": "markdown",
   "id": "37723804",
   "metadata": {},
   "source": [
    "# 06 homework"
   ]
  },
  {
   "cell_type": "code",
   "execution_count": null,
   "id": "7393a5e2",
   "metadata": {},
   "outputs": [],
   "source": []
  }
 ],
 "metadata": {
  "language_info": {
   "name": "python"
  }
 },
 "nbformat": 4,
 "nbformat_minor": 5
}
